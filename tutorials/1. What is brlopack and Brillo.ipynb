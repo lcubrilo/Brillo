{
 "cells": [
  {
   "cell_type": "markdown",
   "metadata": {},
   "source": [
    "# Understanding what `brlopack` and `Brillo` are\n",
    "\n",
    "This file serves the purpose of explaining what `brlopack` really is. This will enable you to properly use it in other Jupyter Notebooks.  \n",
    "We will also distinguish it from `Brillo`.  \n",
    "\n",
    "**Note**: If you don't understand key termns, you can look them up in my [dictionary](./0.%20Glossary%20-%20dictionary%20of%20important%20terminology.ipynb)  \n",
    "Otherwise Google it, ask ChatGPT.  \n",
    "\n",
    "If all else fails - reach out to me directly. You may ask around the office for my email and WhatsApp phone number, I'll be happy to respond."
   ]
  },
  {
   "cell_type": "markdown",
   "metadata": {},
   "source": [
    "# Intro\n",
    "`brlopack` is a Python package I have created.  \n",
    "`Brillo` is a full-fledged program. It has a GUI<sup><span style=\"color:red\">[1]</span></sup>, and runs `brlopack` in the background.\n",
    "\n",
    "---\n",
    "\n",
    "`brlopack` is also the name of the [**class**](./0.%20Glossary%20-%20dictionary%20of%20important%20terminology.ipynb) defined in this package.  \n",
    "Basically, think of `brlopack` as a backend engine for tabular data analysis, processing and plotting.  \n",
    "Its code is contained in the `brlopack.py` script file (and some helper functions from other `.py` files in this project).  \n",
    "\n",
    "`Brillo`'s GUI and connection to the engine are mostly in `main.py`.  \n",
    "Apart from using it from `Brillo` you can use it **through code or Jupyter notebooks**.\n",
    "\n",
    "<sup> <span style=\"color:red\">[1]</span>Windows application with buttons, textboxes and other visual stuff</sup>  \n"
   ]
  },
  {
   "cell_type": "markdown",
   "metadata": {},
   "source": [
    "# How we use `brlopack`\n",
    "We need to instantiate an object of the `brlopack` class. [Object vs class distinction in the Glossary](./0.%20Glossary%20-%20dictionary%20of%20important%20terminology.md)  \n",
    "```\n",
    "object_name = brlopack.brlopack()\n",
    "```\n",
    "Like all classes and objects, `brlopack` too represents an abstract bundle of data and methods to process the data.  \n",
    "We'll talk a bit more about the data inside later.  \n",
    "\n",
    "\n",
    "### Session\n",
    "This object abstractly can represent let's say \"**a (data processing) session**\".  \n",
    "When you finished your session; or in other words when you are done with all of the operations you wanted over the data, you can export it to an Excel table (`.xlsx`) or you can plot it.  \n",
    "\n",
    "### Parallel sessions\n",
    "In theory you could have several objects at the same time that you work with in parallel (like separate sessions, with separate data).  \n",
    "It can even be separate sessions on the same data (they will not change the original file).  \n",
    "As far as I am aware, you guys don't really have a need to do that in the same script (be it `.py` Python file or `.ipynb` Notebook).  \n",
    "But you can.  \n",
    "\n",
    "### Going back to your old session\n",
    "Also you can export the data even if you are not 100% done with it.  \n",
    "Consider it like clicking the \"Save\" button in Word.  \n",
    "You can later import those `.xlsx` files to continue your session exactly where you left off.  \n",
    "\n",
    "***Tip**: If you think an operation could cause Python to crash, save your session first, and then do it.*  \n",
    "*If it crashed, you can pick up where you started, without losing your data ;)*"
   ]
  },
  {
   "cell_type": "markdown",
   "metadata": {},
   "source": [
    "### Same goes for plotting...\n",
    "You don't have to plot the data only at the very end when you are 100% done with it.  \n",
    "You may do some changes to the data, then plot it, then change again, then plot again to see what happened etc.  \n",
    "\n",
    "Treat data as a living thing, speak to it, and listen what it says back.  \n",
    "\n",
    "### Other ways to do it\n",
    "You may also use methods such as `tellMeFiles`, `tellMeTablesInFile` and `tellMeColumnsInTable` as another way to see how your data is changing.  \n",
    "\n",
    "It helps to understand how the data is stored, to really know how to \"talk\" with your data - leading us to the next section."
   ]
  },
  {
   "cell_type": "markdown",
   "metadata": {},
   "source": [
    "# How data is stored\n",
    "\n",
    "You should note that the data in a `brlopack` object is stored in so-called \"nested dictionaries\" in Python.  \n",
    "Abstractely what that means for you is this - data is stored in distinct layers.  \n",
    "\n",
    "One `brlopack` object contains several files (that you loaded into it).  \n",
    "Each file contains several tables.  \n",
    "Each table contains several columns.  \n",
    "\n",
    "Your thinking about the data should always be centered around these 3 layers.  \n",
    "\n",
    "### Note 1\n",
    "If you are familiar with nested dictionaries you will understand representing this 3-layer structure with this notation:  \n",
    "`brlopack.data[\"file_name\"][\"table_name\"][\"column_name\"]`.  \n",
    "\n",
    "### Note 2\n",
    "Each of the tables in `brlopack` is actually a `Pandas DataFrame` (datatype invented in this package).  \n",
    "This means if you wish to do more advanced stuff to these tables, you may Google `Pandas`'s documentation to see which methods you can call upon the `DataFrame`s.\n",
    "\n",
    "### Note 3\n",
    "This is still not fully decided - should `brlopack` have exactly the same columns across all tables (and/or across all files)?\n",
    " - It is possible my code assumes that somewhere and doesn't enforce it elsewhere.  \n",
    "- Same dilemma exists for constants within each file (more about them later)  \n",
    "- Testing around the `Brillo` GUI never lead to issues regarding this, but when you play around with code you might very well come across an issue stemming from that.\n",
    "The final design decision depends on what you as the users actually need (this wasn't decided during the development)\n",
    "\n",
    "### What\n",
    "Usually when you do an operation from one column to another colum\n",
    "</details>"
   ]
  }
 ],
 "metadata": {
  "kernelspec": {
   "display_name": "Python 3",
   "language": "python",
   "name": "python3"
  },
  "language_info": {
   "name": "python",
   "version": "3.7.9"
  },
  "orig_nbformat": 4
 },
 "nbformat": 4,
 "nbformat_minor": 2
}
