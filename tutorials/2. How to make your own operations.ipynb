{
 "cells": [
  {
   "cell_type": "markdown",
   "metadata": {},
   "source": [
    "# How to make you own operations\n",
    "You are able to make operations outside of the 12 outlined in [the notebook showcasing `brillo`](../ProbostatShowcaseNotebook.ipynb). Here's how!  \n",
    "\n",
    "If you are unsure about anything - do not hesitate to contact me over email or WhatsApp with your questions (especially if you tried to Google them or ask ChatGPT about it beforehand). If you don't have my contact info, ask around the office, someone has it!"
   ]
  },
  {
   "cell_type": "markdown",
   "metadata": {},
   "source": [
    "## Easy way\n",
    "You could just run through the [`brlopack.py`](./brlopack.py) to understand how they work and try to improvize your own in whichever way.  "
   ]
  },
  {
   "cell_type": "markdown",
   "metadata": {},
   "source": [
    "\n",
    "## Properly\n",
    "**But ideally**, you'd do it this way:  \n",
    "Carefully look in the `brlopack.py` to see how these 12 were defined. You will notice they all follow the same pattern of arguments:\n",
    "1. `columnName` (str) - the input column\n",
    "2. `newColumnName` (str) - the output column\n",
    "3. `constName` (str, optional) - the constant used somehow in the operation\n",
    "\n",
    "Like them, your own method can be made using the blank `doOperation(operation, columnName, newColumnName, constName)` method.  \n",
    "\n",
    "Observe how it is used. It utilizes the so-called \"lambda functions\".  \n",
    "Alternatively you can assign a function to a variable (this is mentioned in the [glossary](./tutorials/0.%20Glossary%20-%20dictionary%20of%20important%20terminology.ipynb))."
   ]
  }
 ],
 "metadata": {
  "language_info": {
   "name": "python"
  },
  "orig_nbformat": 4
 },
 "nbformat": 4,
 "nbformat_minor": 2
}
