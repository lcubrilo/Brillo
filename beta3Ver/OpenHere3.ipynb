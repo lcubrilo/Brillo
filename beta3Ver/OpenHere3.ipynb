{
 "cells": [
  {
   "cell_type": "markdown",
   "metadata": {
    "slideshow": {
     "slide_type": "slide"
    }
   },
   "source": [
    "# The aixACCT Notebook"
   ]
  },
  {
   "cell_type": "markdown",
   "metadata": {
    "slideshow": {
     "slide_type": "slide"
    }
   },
   "source": [
    "### Table of contents\n"
   ]
  },
  {
   "cell_type": "code",
   "execution_count": null,
   "metadata": {
    "slideshow": {
     "slide_type": "slide"
    }
   },
   "outputs": [],
   "source": [
    "%matplotlib widget\n",
    "# This imports the functions I implemented\n",
    "try:\n",
    "    from brlopack import brlopack\n",
    "    print(\"Successfully loaded `brlopack` from `brlopack`\")\n",
    "except:\n",
    "    print(\"!!!!!!!!!!!!!\")\n",
    "    print(\"ERROR: Importing the package was NOT successful.\")\n",
    "# import pandas as pd"
   ]
  },
  {
   "cell_type": "markdown",
   "metadata": {
    "slideshow": {
     "slide_type": "subslide"
    }
   },
   "source": [
    "### 1. Select your files and load data from them\n",
    "We're using the `browseDirectories` method of the `brlopack` class ~~(`tkinter` GUI - specifically the `askopenfilename()` function)~~"
   ]
  },
  {
   "cell_type": "code",
   "execution_count": null,
   "metadata": {
    "scrolled": true,
    "slideshow": {
     "slide_type": "slide"
    }
   },
   "outputs": [],
   "source": [
    "paket = brlopack()\n",
    "paket.browseDirectories()"
   ]
  },
  {
   "cell_type": "code",
   "execution_count": null,
   "metadata": {},
   "outputs": [],
   "source": [
    "paket.loadFiles()"
   ]
  },
  {
   "cell_type": "markdown",
   "metadata": {},
   "source": [
    "### 2. Peek into your data using `tellMeFiles`, `tellMeTablesInFile` or `tellMeColumnsInTable`."
   ]
  },
  {
   "cell_type": "markdown",
   "metadata": {},
   "source": [
    "The data has loaded successfully.  \n",
    "Now you can always check which files have been loaded using the `tellMeFiles()` method."
   ]
  },
  {
   "cell_type": "code",
   "execution_count": null,
   "metadata": {},
   "outputs": [],
   "source": [
    "paket.tellMeFiles()"
   ]
  },
  {
   "cell_type": "markdown",
   "metadata": {},
   "source": [
    "Now you can check which tables (`DataFrames`) have been loaded from that specific file using the `tellMeTablesInFile` method."
   ]
  },
  {
   "cell_type": "code",
   "execution_count": null,
   "metadata": {},
   "outputs": [],
   "source": [
    "paket.tellMeTablesInFile(\"C:/Users/Uporabnik/Documents/Git projekti/ajzakt/data/BSFO13_RS800_10-150kVcm_RT.dat\")"
   ]
  },
  {
   "cell_type": "markdown",
   "metadata": {},
   "source": [
    "Now - let's divide the Voltage and Current with the area of the sample"
   ]
  },
  {
   "cell_type": "markdown",
   "metadata": {},
   "source": [
    "### Skip for now: 3. Manipulate the `.data` field"
   ]
  },
  {
   "cell_type": "markdown",
   "metadata": {},
   "source": [
    "\n",
    "Keep in mind that raw data itself is easily found under `.data` field.  \n",
    "\n",
    "However that is too much data to see at once. We can narrow down what we are looking for by specifying the *file name* and *table* (`DataFrame`) *name*.  \n",
    "\n",
    "Copy paste a *file name* and a *table name* from outputs above and put them in square brackets. We can store this data in a new variable.\n"
   ]
  },
  {
   "cell_type": "code",
   "execution_count": null,
   "metadata": {},
   "outputs": [],
   "source": [
    "some_uniquely_defined_table = paket.data[\"C:/Users/Uporabnik/Documents/Git projekti/ajzakt/data/BSFO13_RS800_10-150kVcm_RT.dat\"][\"Contour 1\"]\n",
    "some_uniquely_defined_table"
   ]
  },
  {
   "cell_type": "markdown",
   "metadata": {},
   "source": [
    "Even that is a bit much. Maybe it is simply enough to get some basic summary `.info()` of this table, like so:"
   ]
  },
  {
   "cell_type": "code",
   "execution_count": null,
   "metadata": {},
   "outputs": [],
   "source": [
    "some_uniquely_defined_table.info()"
   ]
  },
  {
   "cell_type": "markdown",
   "metadata": {},
   "source": [
    "Now, if we want to see only some columns of the data - we can just put the column name in a square bracket as well.  \n",
    "\n",
    "Just copy paste some column name from above."
   ]
  },
  {
   "cell_type": "code",
   "execution_count": null,
   "metadata": {},
   "outputs": [],
   "source": [
    "some_uniquely_defined_table[\"P1 [uC/cm2]\"]"
   ]
  },
  {
   "cell_type": "markdown",
   "metadata": {},
   "source": [
    "Here's another one:"
   ]
  },
  {
   "cell_type": "code",
   "execution_count": null,
   "metadata": {},
   "outputs": [],
   "source": [
    "time = some_uniquely_defined_table[\"Time [s]\"]\n",
    "voltage = some_uniquely_defined_table[\"V+ [V]\"]\n",
    "p1 = some_uniquely_defined_table[\"P1 [uC/cm2]\"]\n",
    "john = some_uniquely_defined_table[\"P2 [uC/cm2]\"]\n",
    "\n",
    "# You can name your variables however you want.\n",
    "# But you need to copy paste the column titles from above\n",
    "john "
   ]
  },
  {
   "cell_type": "markdown",
   "metadata": {},
   "source": [
    "As you can see above, it again lists out all of the values in that column.  \n",
    "\n",
    "After that it tells you the columns name and length (how many values you have)  "
   ]
  },
  {
   "cell_type": "markdown",
   "metadata": {},
   "source": [
    "  \n",
    "Let's do that again for a different column"
   ]
  },
  {
   "cell_type": "code",
   "execution_count": null,
   "metadata": {
    "slideshow": {
     "slide_type": "subslide"
    }
   },
   "outputs": [],
   "source": [
    "# You can type the name of any of the variables from above to see the values at that column\n",
    "voltage"
   ]
  },
  {
   "cell_type": "markdown",
   "metadata": {},
   "source": [
    "You can also do this with another table of the same file; or a different file altogether."
   ]
  },
  {
   "cell_type": "markdown",
   "metadata": {},
   "source": [
    "Like always, feel free to play around with different values and see what gets outputted.  \n",
    "\n",
    "Keep in mind - after loading your data in a `brlopack` object, you can see it within the `.data` field.  \n",
    "After that the syntax is just adding square brackets that narrow down what you care about - firstly the file, then the table and then the column.  \n",
    "**Example**: `SOME_BRLOPACK_VARIABLE.data[FILE_NAME][TABLE_NAME][COLUMN_NAME]`\n",
    "\n",
    "If any errors happen, you can Google them to get an explanation (probably on the *Stack Overflow* website) why that happened and how to avoid it."
   ]
  },
  {
   "cell_type": "markdown",
   "metadata": {},
   "source": [
    "### 4. Loaded constants (data before the table)"
   ]
  },
  {
   "cell_type": "markdown",
   "metadata": {},
   "source": [
    "Let's see the values of constants (like area or thickness) that we loaded from the file"
   ]
  },
  {
   "cell_type": "code",
   "execution_count": null,
   "metadata": {},
   "outputs": [],
   "source": [
    "for file in paket.tellMeFiles():\n",
    "    for table in paket.tellMeTablesInFile(file):\n",
    "        print(paket.constants[file][table])"
   ]
  },
  {
   "cell_type": "markdown",
   "metadata": {},
   "source": [
    "Now we can change the unit of measurement  \n",
    "(feel free to re-run the code cell from above to see the results of `changeUnitOfConstant`)"
   ]
  },
  {
   "cell_type": "code",
   "execution_count": null,
   "metadata": {},
   "outputs": [],
   "source": [
    "from valueConversion import convertPrefix\n",
    "def changeUnitOfConstant(package, constantName, unitPrefix):\n",
    "    for file in package.tellMeFiles():\n",
    "        for table in package.tellMeTablesInFile(file):\n",
    "            package.constants[file][table][constantName] = convertPrefix(package.constants[file][table][constantName], unitPrefix)\n",
    "    \n",
    "changeUnitOfConstant(paket, \"thickness\", \"c\")"
   ]
  },
  {
   "cell_type": "markdown",
   "metadata": {},
   "source": [
    "Now we can divide any column with the constant we want using the `divide()` function.  \n",
    "In the parentheses you should input the following arguments:  \n",
    "  1. `package` - place where we loaded our data  \n",
    "  2. `columnName` - the column we want to divide  \n",
    "  3. `newColumnName` - where to place newly derived data  \n",
    "  4. `constName` - the constant from above we want to use for dividing  \n",
    "\n",
    "In the end you should get something like `divide(package, col1, col2, const)`"
   ]
  },
  {
   "cell_type": "code",
   "execution_count": null,
   "metadata": {},
   "outputs": [],
   "source": [
    "def divide(package, columnName, newColumnName, constName):\n",
    "    for file in paket.tellMeFiles():\n",
    "        for table in paket.tellMeTablesInFile(file):\n",
    "            (constantVal, constantUnit) = paket.constants[file][table][constName]\n",
    "            paket.data[file][table][newColumnName] = [el/constantVal for el in paket.data[file][table][columnName]]\n",
    "\n",
    "divide(paket, \"V+ [V]\", \"E+ [V/cm]\", \"thickness\") \n",
    "divide(paket, \"V- [V]\", \"E- [V/cm]\", \"thickness\") "
   ]
  },
  {
   "cell_type": "markdown",
   "metadata": {},
   "source": [
    "We have successfully calculated the electric field.  \n",
    "\n",
    "We can repeat this procedure for dividing the D column with thickness to get the relative change.  "
   ]
  },
  {
   "cell_type": "code",
   "execution_count": null,
   "metadata": {},
   "outputs": [],
   "source": [
    "divide(paket, \"D3 [nm]\", \"delta3 [%]\", \"thickness\")\n",
    "divide(paket, \"D2 [nm]\", \"delta2 [%]\", \"thickness\")"
   ]
  },
  {
   "cell_type": "markdown",
   "metadata": {},
   "source": [
    "Here is how we can view the contents of this newly made column"
   ]
  },
  {
   "cell_type": "code",
   "execution_count": null,
   "metadata": {},
   "outputs": [],
   "source": [
    "for el in paket.data[file][table][\"delta2 [%]\"]:\n",
    "    #if el > 10**-5:\n",
    "    print(el)"
   ]
  },
  {
   "cell_type": "markdown",
   "metadata": {},
   "source": [
    "The package `arrayConversion` has a useful function called `adapter_ConvertPrefix` which allows us to change kg to g; GW to kW, km to nm etc, assuming data in a list."
   ]
  },
  {
   "cell_type": "code",
   "execution_count": null,
   "metadata": {},
   "outputs": [],
   "source": [
    "import arrayConversion\n",
    "arrayConversion.adapter_ConvertPrefix(paket, \"delta2 [%]\", \"delta2 [c%]\")"
   ]
  },
  {
   "cell_type": "markdown",
   "metadata": {},
   "source": [
    "Now we can get a list of columns in all tables:"
   ]
  },
  {
   "cell_type": "code",
   "execution_count": null,
   "metadata": {},
   "outputs": [],
   "source": [
    "for f in paket.tellMeFiles():\n",
    "    for t in paket.tellMeTablesInFile(f):\n",
    "        #print(paket.data[f][t][\"delta2 [c%]\"])\n",
    "        paket.data[f][t].info()"
   ]
  },
  {
   "cell_type": "markdown",
   "metadata": {},
   "source": [
    "## Plotting data"
   ]
  },
  {
   "cell_type": "markdown",
   "metadata": {},
   "source": [
    "Now that we are roughly aware of how data is stored in a `brlopack` object - we can easily plot data."
   ]
  },
  {
   "cell_type": "markdown",
   "metadata": {
    "slideshow": {
     "slide_type": "slide"
    }
   },
   "source": [
    "### 1. Setting up interesting measurements for plotting\n",
    "Using Python dictionaries - key:value pairs (x axis: y axes)"
   ]
  },
  {
   "cell_type": "code",
   "execution_count": null,
   "metadata": {
    "slideshow": {
     "slide_type": "subslide"
    }
   },
   "outputs": [],
   "source": [
    "# Independent variable\n",
    "x_axis = \"V+ [V]\" \n",
    "\n",
    "# Dependent variables\n",
    "y_axes = [\"P1 [uC/cm2]\", \"P2 [uC/cm2]\"]\n",
    "\n",
    "# Pair them up\n",
    "plots = {\n",
    "    x_axis: y_axes\n",
    "    # you can pair up another x axis here; then a \":\"; then y_axes\n",
    "    }\n",
    "\n",
    "# Let's see what we have stored in memory\n",
    "plots"
   ]
  },
  {
   "cell_type": "code",
   "execution_count": null,
   "metadata": {},
   "outputs": [],
   "source": [
    "plots = {\n",
    "    \"E+ [V/cm]\": [\"P2 [uC/cm2]\", \"delta2 [%]\"],\n",
    "    \"E- [V/cm]\": [\"P3 [uC/cm2]\", \"delta3 [%]\"]\n",
    "}"
   ]
  },
  {
   "cell_type": "markdown",
   "metadata": {},
   "source": [
    "### 2. Printing only some contours\n",
    "\n",
    "What if we don't want to plot all contours?\n",
    "\n",
    "Run the cell below to get a list of contours and a checkbox to exclude irrelevant ones."
   ]
  },
  {
   "cell_type": "code",
   "execution_count": null,
   "metadata": {},
   "outputs": [],
   "source": [
    "#from helperFunctions import newestSplit, splitMessage, checkedBoxes\n",
    "paket.resetPlotSettings()\n",
    "def changed(b):\n",
    "    #i = splitMessage.index(b[\"owner\"].description)\n",
    "    checkedBoxes[b[\"owner\"].description] = b[\"owner\"].value\n",
    "    global paket\n",
    "    fileName = b[\"owner\"].description\n",
    "    truthValue = b[\"owner\"].value\n",
    "    paket.shouldIPlotFile(fileName, truthValue)\n",
    "    print(\"\\n========\\n\")\n",
    "    print(\"{}: switched to {}\".format(b[\"owner\"].description, b[\"owner\"].value))\n",
    "    \n",
    "    for i, key in enumerate(checkedBoxes):\n",
    "        if key == b[\"owner\"].description: break\n",
    "    \n",
    "    for chkBx2 in checkboxes2[i]:\n",
    "        chkBx2.set(b[\"owner\"].value)\n",
    "\n",
    "def sub_changed(b):\n",
    "    global paket\n",
    "    table, file = b[\"owner\"].description.split(\"|\")\n",
    "    print(\"Tbl: {} fl: {}\".format(table, file))\n",
    "    paket.shouldIPlotTables(file, table, b[\"owner\"].value)\n",
    "    print(\"\\n========\\n\")\n",
    "    print(\"{}: subswitched to {}\".format(b[\"owner\"].description, b[\"owner\"].value))\n",
    "    \n",
    "from IPython.display import display\n",
    "from ipywidgets import Checkbox\n",
    "\n",
    "#print(contours)\n",
    "checkboxes = []; checkboxes2 = []\n",
    "checkedBoxes = {}\n",
    "print(checkedBoxes)\n",
    "\n",
    "for fileName in paket.tellMeFiles():\n",
    "    checkboxes.append(Checkbox(True, description=str(fileName)))\n",
    "    checkedBoxes[fileName] = True\n",
    "    checkboxes2.append([])\n",
    "    for table in paket.tellMeTablesInFile(file):\n",
    "        checkboxes2[-1].append(Checkbox(True, description=table+\"|\"+fileName))\n",
    "        #checkedBoxes[table+fileName] = True\n",
    "        \n",
    "for i, chkBx in enumerate(checkboxes):\n",
    "    display(chkBx)\n",
    "    chkBx.observe(changed, names=['value'])\n",
    "    for chkBx2 in checkboxes2[i]:\n",
    "        display(chkBx2)\n",
    "        chkBx2.observe(sub_changed, names=['value'])\n",
    "    \n",
    "#TODO make a function that import/exports bool values to and from checkboxes"
   ]
  },
  {
   "cell_type": "markdown",
   "metadata": {},
   "source": [
    "Let's see how our variables store this data (for checked files)"
   ]
  },
  {
   "cell_type": "code",
   "execution_count": null,
   "metadata": {},
   "outputs": [],
   "source": [
    "checkedBoxes"
   ]
  },
  {
   "cell_type": "markdown",
   "metadata": {},
   "source": [
    "Let's see how our variables store this data (for checked tables of a file)"
   ]
  },
  {
   "cell_type": "code",
   "execution_count": null,
   "metadata": {},
   "outputs": [],
   "source": [
    "paket.plotFiles"
   ]
  },
  {
   "cell_type": "markdown",
   "metadata": {},
   "source": [
    "Now that we are confident what gets plotted and what doesn't, we can run the cell below"
   ]
  },
  {
   "cell_type": "code",
   "execution_count": null,
   "metadata": {},
   "outputs": [],
   "source": [
    "desirable = [key for key in checkedBoxes if checkedBoxes[key]]\n",
    "for x_axis in plots:\n",
    "    for y_axis in plots[x_axis]:\n",
    "        paket.plotData(x_axis, y_axis, desirable)"
   ]
  },
  {
   "cell_type": "markdown",
   "metadata": {},
   "source": [
    "## Exporting to excel"
   ]
  },
  {
   "cell_type": "markdown",
   "metadata": {},
   "source": [
    "It is implemented in the `brlopack` using the `exportToExcel()` method"
   ]
  },
  {
   "cell_type": "code",
   "execution_count": null,
   "metadata": {},
   "outputs": [],
   "source": [
    "paket.exportToExcel()"
   ]
  },
  {
   "cell_type": "code",
   "execution_count": null,
   "metadata": {},
   "outputs": [],
   "source": []
  }
 ],
 "metadata": {
  "kernelspec": {
   "display_name": "Python 3 (ipykernel)",
   "language": "python",
   "name": "python3"
  },
  "language_info": {
   "codemirror_mode": {
    "name": "ipython",
    "version": 3
   },
   "file_extension": ".py",
   "mimetype": "text/x-python",
   "name": "python",
   "nbconvert_exporter": "python",
   "pygments_lexer": "ipython3",
   "version": "3.10.9"
  },
  "vscode": {
   "interpreter": {
    "hash": "5c381e7f2c0078467f73d23553deca43c477deb42d7a3fd5098a3a031bb70ab1"
   }
  }
 },
 "nbformat": 4,
 "nbformat_minor": 2
}
