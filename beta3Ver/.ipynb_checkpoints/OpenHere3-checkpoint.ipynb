{
 "cells": [
  {
   "cell_type": "markdown",
   "metadata": {
    "slideshow": {
     "slide_type": "slide"
    }
   },
   "source": [
    "# The aixACCT Notebook"
   ]
  },
  {
   "cell_type": "markdown",
   "metadata": {
    "slideshow": {
     "slide_type": "slide"
    }
   },
   "source": [
    "## Table of contents\n",
    "- Simple example\n",
    "    1. Loading a file\n",
    "    2. Choosing an interesting column of the table\n",
    "- New example\n",
    "    1. Loading multiple files\n",
    "    2. Setting up plots (1 independent, many dependent variables)\n",
    "    3. Plotting the data from one file\n",
    "    4. Plotting the data from multiple files"
   ]
  },
  {
   "cell_type": "code",
   "execution_count": 1,
   "metadata": {
    "slideshow": {
     "slide_type": "slide"
    }
   },
   "outputs": [
    {
     "name": "stdout",
     "output_type": "stream",
     "text": [
      "Successfully loaded `brlopack` from `brlopack`\n"
     ]
    }
   ],
   "source": [
    "%matplotlib widget\n",
    "# This imports the functions I implemented\n",
    "try:\n",
    "    from brlopack import brlopack\n",
    "    print(\"Successfully loaded `brlopack` from `brlopack`\")\n",
    "except:\n",
    "    print(\"!!!!!!!!!!!!!\")\n",
    "    print(\"ERROR: Importing the package was NOT successful.\")\n",
    "# import pandas as pd"
   ]
  },
  {
   "cell_type": "markdown",
   "metadata": {
    "slideshow": {
     "slide_type": "subslide"
    }
   },
   "source": [
    "### Simple example: 1. Select your files and load data from them\n",
    "We're using the `browseDirectories` method of the `brlopack` class ~~(`tkinter` GUI - specifically the `askopenfilename()` function)~~"
   ]
  },
  {
   "cell_type": "code",
   "execution_count": 2,
   "metadata": {
    "scrolled": true,
    "slideshow": {
     "slide_type": "slide"
    }
   },
   "outputs": [
    {
     "name": "stdout",
     "output_type": "stream",
     "text": [
      "Loading file C:/Users/Uporabnik/Documents/Git projekti/ajzakt/data/BSFO13_RS800_10-150kVcm_RT.dat\n",
      "Loading file C:/Users/Uporabnik/Documents/Git projekti/ajzakt/data/BSFO13_RS800_12h_10-150kVcm_RT.dat\n",
      "Loading file C:/Users/Uporabnik/Documents/Git projekti/ajzakt/data/BSFO13_RS820_10-150kVcm_RT.dat\n"
     ]
    }
   ],
   "source": [
    "paket = brlopack()\n",
    "paket.browseDirectories()\n",
    "paket.loadFiles()"
   ]
  },
  {
   "cell_type": "markdown",
   "metadata": {},
   "source": [
    "### Simple example: 2. Peek into your data using `tellMeFiles`, `tellMeTablesInFile` or `tellMeColumnsInTable`."
   ]
  },
  {
   "cell_type": "markdown",
   "metadata": {},
   "source": [
    "The data has loaded successfully.  \n",
    "Now you can always check which files have been loaded using the `tellMeFiles()` method."
   ]
  },
  {
   "cell_type": "code",
   "execution_count": 3,
   "metadata": {},
   "outputs": [
    {
     "data": {
      "text/plain": [
       "('C:/Users/Uporabnik/Documents/Git projekti/ajzakt/data/BSFO13_RS800_10-150kVcm_RT.dat',\n",
       " 'C:/Users/Uporabnik/Documents/Git projekti/ajzakt/data/BSFO13_RS800_12h_10-150kVcm_RT.dat',\n",
       " 'C:/Users/Uporabnik/Documents/Git projekti/ajzakt/data/BSFO13_RS820_10-150kVcm_RT.dat')"
      ]
     },
     "execution_count": 3,
     "metadata": {},
     "output_type": "execute_result"
    }
   ],
   "source": [
    "paket.tellMeFiles()"
   ]
  },
  {
   "cell_type": "markdown",
   "metadata": {},
   "source": [
    "Now you can check which tables (`DataFrames`) have been loaded from that specific file using the `tellMeTablesInFile` method."
   ]
  },
  {
   "cell_type": "code",
   "execution_count": 4,
   "metadata": {},
   "outputs": [
    {
     "data": {
      "text/plain": [
       "['Contour 1',\n",
       " 'Contour 2',\n",
       " 'Contour 3',\n",
       " 'Contour 4',\n",
       " 'Contour 5',\n",
       " 'Contour 6',\n",
       " 'Contour 7',\n",
       " 'Contour 8',\n",
       " 'Contour 9',\n",
       " 'Contour 10',\n",
       " 'Contour 11',\n",
       " 'Contour 12',\n",
       " 'Contour 13',\n",
       " 'Contour 14',\n",
       " 'Contour 15']"
      ]
     },
     "execution_count": 4,
     "metadata": {},
     "output_type": "execute_result"
    }
   ],
   "source": [
    "paket.tellMeTablesInFile(\"C:/Users/Uporabnik/Documents/Git projekti/ajzakt/data/BSFO13_RS800_10-150kVcm_RT.dat\")"
   ]
  },
  {
   "cell_type": "markdown",
   "metadata": {},
   "source": [
    "### Skip for now: Simple example 3: Manipulate the `.data` field"
   ]
  },
  {
   "cell_type": "markdown",
   "metadata": {},
   "source": [
    "\n",
    "Keep in mind that raw data itself is easily found under `.data` field.  \n",
    "\n",
    "However that is too much data to see at once. We can narrow down what we are looking for by specifying the *file name* and *table* (`DataFrame`) *name*.  \n",
    "\n",
    "Copy paste a *file name* and a *table name* from outputs above and put them in square brackets. We can store this data in a new variable.\n"
   ]
  },
  {
   "cell_type": "code",
   "execution_count": null,
   "metadata": {},
   "outputs": [],
   "source": [
    "some_uniquely_defined_table = paket.data[\"C:/Users/Uporabnik/Documents/Git projekti/ajzakt/data/BSFO13_RS800_10-150kVcm_RT.dat\"][\"Contour 1\"]\n",
    "some_uniquely_defined_table"
   ]
  },
  {
   "cell_type": "markdown",
   "metadata": {},
   "source": [
    "Even that is a bit much. Maybe it is simply enough to get some basic summary `.info()` of this table, like so:"
   ]
  },
  {
   "cell_type": "code",
   "execution_count": null,
   "metadata": {},
   "outputs": [],
   "source": [
    "some_uniquely_defined_table.info()"
   ]
  },
  {
   "cell_type": "markdown",
   "metadata": {},
   "source": [
    "Now, if we want to see only some columns of the data - we can just put the column name in a square bracket as well.  \n",
    "\n",
    "Just copy paste some column name from above."
   ]
  },
  {
   "cell_type": "code",
   "execution_count": null,
   "metadata": {},
   "outputs": [],
   "source": [
    "some_uniquely_defined_table[\"P1 [uC/cm2]\"]"
   ]
  },
  {
   "cell_type": "markdown",
   "metadata": {},
   "source": [
    "Here's another one:"
   ]
  },
  {
   "cell_type": "code",
   "execution_count": null,
   "metadata": {},
   "outputs": [],
   "source": [
    "time = some_uniquely_defined_table[\"Time [s]\"]\n",
    "voltage = some_uniquely_defined_table[\"V+ [V]\"]\n",
    "p1 = some_uniquely_defined_table[\"P1 [uC/cm2]\"]\n",
    "john = some_uniquely_defined_table[\"P2 [uC/cm2]\"]\n",
    "\n",
    "# You can name your variables however you want.\n",
    "# But you need to copy paste the column titles from above\n",
    "john "
   ]
  },
  {
   "cell_type": "markdown",
   "metadata": {},
   "source": [
    "As you can see above, it again lists out all of the values in that column.  \n",
    "\n",
    "After that it tells you the columns name and length (how many values you have)  "
   ]
  },
  {
   "cell_type": "markdown",
   "metadata": {},
   "source": [
    "  \n",
    "Let's do that again for a different column"
   ]
  },
  {
   "cell_type": "code",
   "execution_count": null,
   "metadata": {
    "slideshow": {
     "slide_type": "subslide"
    }
   },
   "outputs": [],
   "source": [
    "# You can type the name of any of the variables from above to see the values at that column\n",
    "voltage"
   ]
  },
  {
   "cell_type": "markdown",
   "metadata": {},
   "source": [
    "You can also do this with another table of the same file; or a different file altogether."
   ]
  },
  {
   "cell_type": "markdown",
   "metadata": {},
   "source": [
    "Like always, feel free to play around with different values and see what gets outputted.  \n",
    "\n",
    "Keep in mind - after loading your data in a `brlopack` object, you can see it within the `.data` field.  \n",
    "After that the syntax is just adding square brackets that narrow down what you care about - firstly the file, then the table and then the column.  \n",
    "**Example**: `SOME_BRLOPACK_VARIABLE.data[FILE_NAME][TABLE_NAME][COLUMN_NAME]`\n",
    "\n",
    "If any errors happen, you can Google them to get an explanation (probably on the *Stack Overflow* website) why that happened and how to avoid it."
   ]
  },
  {
   "cell_type": "markdown",
   "metadata": {},
   "source": [
    "## Plotting data"
   ]
  },
  {
   "cell_type": "markdown",
   "metadata": {},
   "source": [
    "Now that we are roughly aware of how data is stored in a `brlopack` object - we can easily plot data."
   ]
  },
  {
   "cell_type": "markdown",
   "metadata": {
    "slideshow": {
     "slide_type": "slide"
    }
   },
   "source": [
    "### 1. Setting up interesting measurements for plotting\n",
    "Using Python dictionaries - key:value pairs (x axis: y axes)"
   ]
  },
  {
   "cell_type": "code",
   "execution_count": 5,
   "metadata": {
    "slideshow": {
     "slide_type": "subslide"
    }
   },
   "outputs": [
    {
     "data": {
      "text/plain": [
       "{'V+ [V]': ['P1 [uC/cm2]', 'P2 [uC/cm2]']}"
      ]
     },
     "execution_count": 5,
     "metadata": {},
     "output_type": "execute_result"
    }
   ],
   "source": [
    "# Independent variable\n",
    "x_axis = \"V+ [V]\" \n",
    "\n",
    "# Dependent variables\n",
    "y_axes = [\"P1 [uC/cm2]\", \"P2 [uC/cm2]\"]\n",
    "\n",
    "# Pair them up\n",
    "plots = {\n",
    "    x_axis: y_axes\n",
    "    # you can pair up another x axis here; then a \":\"; then y_axes\n",
    "    }\n",
    "\n",
    "# Let's see what we have stored in memory\n",
    "plots"
   ]
  },
  {
   "cell_type": "markdown",
   "metadata": {},
   "source": [
    "### 4. Printing only some contours\n",
    "\n",
    "What if some of these contours are not interesting to us and we wish not to plot them with the interesting ones?\n",
    "\n",
    "Run the cell below to get a list of contours and a checkbox to exclude irrelevant ones."
   ]
  },
  {
   "cell_type": "code",
   "execution_count": 6,
   "metadata": {},
   "outputs": [
    {
     "name": "stdout",
     "output_type": "stream",
     "text": [
      "[]\n"
     ]
    },
    {
     "data": {
      "application/vnd.jupyter.widget-view+json": {
       "model_id": "fb825f9c21524f5ea65b992b90468773",
       "version_major": 2,
       "version_minor": 0
      },
      "text/plain": [
       "Checkbox(value=True, description='C:/Users/Uporabnik/Documents/Git projekti/ajzakt/data/BSFO13_RS800_10-150kVc…"
      ]
     },
     "metadata": {},
     "output_type": "display_data"
    },
    {
     "data": {
      "application/vnd.jupyter.widget-view+json": {
       "model_id": "d5d313640432457cbfaef0566fd4d728",
       "version_major": 2,
       "version_minor": 0
      },
      "text/plain": [
       "Checkbox(value=True, description='C:/Users/Uporabnik/Documents/Git projekti/ajzakt/data/BSFO13_RS800_12h_10-15…"
      ]
     },
     "metadata": {},
     "output_type": "display_data"
    },
    {
     "data": {
      "application/vnd.jupyter.widget-view+json": {
       "model_id": "31fefc71cc6340cd94015c177da7207f",
       "version_major": 2,
       "version_minor": 0
      },
      "text/plain": [
       "Checkbox(value=True, description='C:/Users/Uporabnik/Documents/Git projekti/ajzakt/data/BSFO13_RS820_10-150kVc…"
      ]
     },
     "metadata": {},
     "output_type": "display_data"
    },
    {
     "name": "stdout",
     "output_type": "stream",
     "text": [
      "\n",
      "========\n",
      "\n",
      "C:/Users/Uporabnik/Documents/Git projekti/ajzakt/data/BSFO13_RS800_12h_10-150kVcm_RT.dat: switched to False\n",
      "\n",
      "========\n",
      "\n",
      "C:/Users/Uporabnik/Documents/Git projekti/ajzakt/data/BSFO13_RS800_12h_10-150kVcm_RT.dat: switched to True\n",
      "\n",
      "========\n",
      "\n",
      "C:/Users/Uporabnik/Documents/Git projekti/ajzakt/data/BSFO13_RS820_10-150kVcm_RT.dat: switched to False\n",
      "\n",
      "========\n",
      "\n",
      "C:/Users/Uporabnik/Documents/Git projekti/ajzakt/data/BSFO13_RS820_10-150kVcm_RT.dat: switched to True\n"
     ]
    }
   ],
   "source": [
    "#from helperFunctions import newestSplit, splitMessage, checkedBoxes\n",
    "\n",
    "def changed(b):\n",
    "    #i = splitMessage.index(b[\"owner\"].description)\n",
    "    #checkedBoxes[i] = b[\"owner\"].value\n",
    "    print(\"\\n========\\n\")\n",
    "    print(\"{}: switched to {}\".format(b[\"owner\"].description, b[\"owner\"].value))\n",
    "\n",
    "from IPython.display import display\n",
    "from ipywidgets import Checkbox\n",
    "\n",
    "#print(contours)\n",
    "checkboxes = []\n",
    "checkedBoxes = []\n",
    "print(checkedBoxes)\n",
    "\n",
    "for fileName in paket.tellMeFiles():\n",
    "    checkboxes.append(Checkbox(True, description=str(fileName)))\n",
    "    checkedBoxes.append(True)\n",
    "\n",
    "for chkBx in checkboxes:\n",
    "    display(chkBx)\n",
    "    chkBx.observe(changed, names=['value'])\n",
    "    \n",
    "#TODO make a function that import/exports bool values to and from checkboxes"
   ]
  },
  {
   "cell_type": "code",
   "execution_count": null,
   "metadata": {},
   "outputs": [],
   "source": [
    "checkedBoxes"
   ]
  },
  {
   "cell_type": "code",
   "execution_count": null,
   "metadata": {
    "slideshow": {
     "slide_type": "slide"
    }
   },
   "outputs": [],
   "source": [
    "# Alternative plotting from the third file\n",
    "plotData(loadedTables[wantedFiles[2]], x_axis, [\"D1 [nm]\",\"D2 [nm]\"], fileName=wantedFiles[2])"
   ]
  },
  {
   "cell_type": "markdown",
   "metadata": {
    "slideshow": {
     "slide_type": "slide"
    }
   },
   "source": [
    "### 5. Combine plot data from two different files\n",
    "You can also combine data from all of the files together on the same plot using the `plotMultiple()` function from my `helperFunctions.py` script."
   ]
  },
  {
   "cell_type": "code",
   "execution_count": null,
   "metadata": {
    "slideshow": {
     "slide_type": "subslide"
    }
   },
   "outputs": [],
   "source": [
    "#plotMultiple(loadedTables, \"V+ [V]\", [\"P1 [uC/cm2]\", \"P2 [uC/cm2]\"])"
   ]
  }
 ],
 "metadata": {
  "kernelspec": {
   "display_name": "Python 3 (ipykernel)",
   "language": "python",
   "name": "python3"
  },
  "language_info": {
   "codemirror_mode": {
    "name": "ipython",
    "version": 3
   },
   "file_extension": ".py",
   "mimetype": "text/x-python",
   "name": "python",
   "nbconvert_exporter": "python",
   "pygments_lexer": "ipython3",
   "version": "3.10.8"
  },
  "vscode": {
   "interpreter": {
    "hash": "5c381e7f2c0078467f73d23553deca43c477deb42d7a3fd5098a3a031bb70ab1"
   }
  }
 },
 "nbformat": 4,
 "nbformat_minor": 2
}
