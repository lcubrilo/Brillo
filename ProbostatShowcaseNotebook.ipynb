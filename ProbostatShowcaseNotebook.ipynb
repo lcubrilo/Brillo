{
 "cells": [
  {
   "cell_type": "markdown",
   "metadata": {
    "slide_type": "slide",
    "slideshow": {
     "slide_type": "slide"
    }
   },
   "source": [
    "# Probostat Data Processing Notebook\n",
    "This notebook provides a concise and user-friendly interface to work with Probostat data files. Follow the steps to load, view, manipulate, and export your data."
   ]
  },
  {
   "cell_type": "markdown",
   "metadata": {
    "slide_type": "slide",
    "slideshow": {
     "slide_type": "slide"
    }
   },
   "source": [
    "## Table of contents:\n",
    "**0. Installing external packages missing on the system**  \n",
    "**1. Load Probostat files into `brlopack` object**  \n",
    "**2. View data structure and content**   \n",
    "L___**2.5 Utilize the `DataFrame`**  \n",
    "**3. Split the Probostat data**  \n",
    "**4. Manipulate the data**   \n",
    "L___**4.5 Unit conversions!**  \n",
    "**5. Exporting**  \n",
    "**6. Plotting**  \n",
    "**7. Conclusion**  "
   ]
  },
  {
   "cell_type": "markdown",
   "metadata": {
    "slide_type": "slide",
    "slideshow": {
     "slide_type": "slide"
    }
   },
   "source": [
    "\n",
    "---\n",
    "<div style=\"page-break-after: always\"></div>\n",
    "\n",
    "# Step 0: Installing external packages missing on the system\n",
    "We need to set up some things before running the rest of the notebook"
   ]
  },
  {
   "cell_type": "code",
   "execution_count": 1,
   "metadata": {
    "slide_type": "fragment",
    "slideshow": {
     "slide_type": "fragment"
    }
   },
   "outputs": [
    {
     "name": "stdout",
     "output_type": "stream",
     "text": [
      "Assuming local environment...\n",
      "We already had all necessary packages.\n"
     ]
    }
   ],
   "source": [
    "import sys\n",
    "import os\n",
    "import subprocess\n",
    "\n",
    "if 'google.colab' in sys.modules:\n",
    "    print(\"Running in Google Colab\")\n",
    "    subprocess.run(['git', 'clone', 'https://github.com/lcubrilo/Brillo'])\n",
    "    os.chdir('Brillo/')\n",
    "else:\n",
    "    from NotebookEnvironmentSetup import main\n",
    "    main()\n"
   ]
  },
  {
   "cell_type": "markdown",
   "metadata": {
    "slide_type": "slide",
    "slideshow": {
     "slide_type": "slide"
    }
   },
   "source": [
    "---\n",
    "<div style=\"page-break-after: always\"></div>\n",
    "\n",
    "# Step 1: Load Probostat Files into `brlopack` object\n",
    "First we will import the package I have made for data processing, called `brlopack`."
   ]
  },
  {
   "cell_type": "code",
   "execution_count": 2,
   "metadata": {
    "slide_type": "fragment",
    "slideshow": {
     "slide_type": "fragment"
    }
   },
   "outputs": [],
   "source": [
    "import brlopack"
   ]
  },
  {
   "cell_type": "markdown",
   "metadata": {
    "slide_type": "subslide",
    "slideshow": {
     "slide_type": "fragment"
    }
   },
   "source": [
    "**Note**: If you ever run into some sort of an issue, not being sure what is `brlopack`, what is `Brillo`, refer to [this notebook](tutorials/1.%20What%20is%20brlopack%20and%20Brillo.ipynb)."
   ]
  },
  {
   "cell_type": "markdown",
   "metadata": {
    "slide_type": "subslide",
    "slideshow": {
     "slide_type": "subslide"
    }
   },
   "source": [
    "### Initialize the BrloPack object\n",
    "We need to make a `brlopack` object. We can name it whatever we want. Let's say we name it `probostat_session`.  \n",
    "\n",
    "After that we will load some files into that object. Then we can do whichever operations/functions/methods we want over the loaded data."
   ]
  },
  {
   "cell_type": "code",
   "execution_count": 3,
   "metadata": {
    "slide_type": "subslide",
    "slideshow": {
     "slide_type": "fragment"
    }
   },
   "outputs": [],
   "source": [
    "probostat_session = brlopack.brlopack()"
   ]
  },
  {
   "cell_type": "markdown",
   "metadata": {
    "slide_type": "subslide",
    "slideshow": {
     "slide_type": "subslide"
    }
   },
   "source": [
    "Now let's load the **Probostat** data files into `probostat_session`.  \n",
    "Please make sure the files were exported from Origin in the `.csv` format :)  \n",
    "\n",
    "You can find more details below (optinal):\n",
    "<details><summary>Click here</summary>\n",
    "\n",
    "Note 1: you may also choose to load files that were exported from `brlopack` (`.xslx` format)  \n",
    "Note 2: `brlopack` can also work on **aixACCT** `.dat` files.\n",
    "\n",
    "There's more than one way to select which files will be loaded:\n",
    "1. Passing a list of filepaths to `.tellFiles()` method\n",
    "2. Selecting the files through a **popup window** using `browseDirectories()` method\n",
    "3. ~~Manually assigning it to the `.wantedFiles` variable~~ (preferrably avoid this)\n",
    "\n",
    "You should use only one of these approaches, not more (comment out the other two you are not using with a '#' in the beginning of the line)\n",
    "</details>"
   ]
  },
  {
   "cell_type": "code",
   "execution_count": 4,
   "metadata": {
    "slide_type": "subslide",
    "slideshow": {
     "slide_type": "fragment"
    }
   },
   "outputs": [],
   "source": [
    "# Approach 1 - List of Probostat files to load\n",
    "# you can use \"relative\" or \"absolute\" paths\n",
    "probostat_files1 = [\n",
    "    'data/probostat/new/BCTZ_16cikel za lukata loceno-2 point resistances.csv',\n",
    "    'data/probostat/new/BCTZ_16cikel za lukata loceno-Flow.csv',\n",
    "    'data/probostat/new/BCTZ_16cikel za lukata loceno-Keysiht MC.csv',\n",
    "    'data/probostat/new/BCTZ_16cikel za lukata loceno-Temp.csv'\n",
    "]\n",
    "probostat_files2 = [\n",
    "    'data/probostat/new2/BFO_BT_-TEMPLATE_5 nov nod za pec-2 point R [Ohm).csv',\n",
    "    'data/probostat/new2/BFO_BT_-TEMPLATE_5 nov nod za pec-4 point R [Ohm].csv',\n",
    "    'data/probostat/new2/BFO_BT_-TEMPLATE_5 nov nod za pec-Flow N2.csv',\n",
    "    'data/probostat/new2/BFO_BT_-TEMPLATE_5 nov nod za pec-Keysiht MC (1).csv',\n",
    "    'data/probostat/new2/BFO_BT_-TEMPLATE_5 nov nod za pec-Keysiht MC.csv',\n",
    "    'data/probostat/new2/BFO_BT_-TEMPLATE_5 nov nod za pec-Seebeck.csv'\n",
    "]\n",
    "probostat_session.tellFiles(probostat_files1)\n",
    "\n",
    "############################\n",
    "# Approach 2 - window popup\n",
    "#paket.browseDirectories()\n",
    "\n",
    "############################\n",
    "# Approach 3 - direct assignment NOT RECOMMENDED\n",
    "#paket.wantedFiles = ['some files']"
   ]
  },
  {
   "cell_type": "markdown",
   "metadata": {
    "slide_type": "subslide",
    "slideshow": {
     "slide_type": "subslide"
    }
   },
   "source": [
    "Let's see if it worked!"
   ]
  },
  {
   "cell_type": "code",
   "execution_count": 5,
   "metadata": {
    "slide_type": "subslide",
    "slideshow": {
     "slide_type": "fragment"
    }
   },
   "outputs": [
    {
     "data": {
      "text/plain": [
       "['data/probostat/new/BCTZ_16cikel za lukata loceno-2 point resistances.csv',\n",
       " 'data/probostat/new/BCTZ_16cikel za lukata loceno-Flow.csv',\n",
       " 'data/probostat/new/BCTZ_16cikel za lukata loceno-Keysiht MC.csv',\n",
       " 'data/probostat/new/BCTZ_16cikel za lukata loceno-Temp.csv']"
      ]
     },
     "execution_count": 5,
     "metadata": {},
     "output_type": "execute_result"
    }
   ],
   "source": [
    "probostat_session.tellMeFiles()"
   ]
  },
  {
   "cell_type": "markdown",
   "metadata": {
    "slide_type": "subslide",
    "slideshow": {
     "slide_type": "fragment"
    }
   },
   "source": [
    "Now we know which files `probostat_session` will try to load!   \n",
    "Let's do that immediately.  "
   ]
  },
  {
   "cell_type": "markdown",
   "metadata": {
    "slide_type": "subslide",
    "slideshow": {
     "slide_type": "subslide"
    }
   },
   "source": [
    "### Load the files into the `brlopack` object \"`probostat_session`\"\n",
    "**Note**: Loading Probostat's files can take up to 1 or 2 minutes, because it is running a costly stitching operation over these `.csv` tables.  \n",
    "Please be patient!"
   ]
  },
  {
   "cell_type": "code",
   "execution_count": 6,
   "metadata": {
    "slide_type": "subslide",
    "slideshow": {
     "slide_type": "fragment"
    }
   },
   "outputs": [],
   "source": [
    "probostat_session.loadFiles()"
   ]
  },
  {
   "cell_type": "markdown",
   "metadata": {
    "slide_type": "subslide",
    "slideshow": {
     "slide_type": "fragment"
    }
   },
   "source": [
    "**Note**: You should call `.loadFiles()` right after choosing your files (i.e. do not perform other operations inbetween the two)."
   ]
  },
  {
   "cell_type": "markdown",
   "metadata": {
    "slide_type": "slide",
    "slideshow": {
     "slide_type": "slide"
    }
   },
   "source": [
    "---\n",
    "<div style=\"page-break-after: always\"></div> \n",
    "\n",
    "# Step 2: View Data Structure and Content\n",
    "You can explore the files, tables, and columns within the loaded data.\n"
   ]
  },
  {
   "cell_type": "code",
   "execution_count": 7,
   "metadata": {
    "slide_type": "fragment",
    "slideshow": {
     "slide_type": "fragment"
    }
   },
   "outputs": [
    {
     "data": {
      "text/plain": [
       "['Probostat']"
      ]
     },
     "execution_count": 7,
     "metadata": {},
     "output_type": "execute_result"
    }
   ],
   "source": [
    "# Example: View the files loaded\n",
    "loadedFiles = probostat_session.tellMeFiles()\n",
    "loadedFiles"
   ]
  },
  {
   "cell_type": "markdown",
   "metadata": {
    "slide_type": "slide",
    "slideshow": {
     "slide_type": "subslide"
    }
   },
   "source": [
    "### Some questions\n",
    "If not interested, feel free to skip\n",
    "\n",
    "**Question 1: Why does `tellMeFiles()` now give us one file** (named 'Probostat') **; when we loaded 4?**  \n",
    "*Answer 1*\n",
    "<details><summary>Click here</summary>\n",
    "\n",
    "In the case of Probostat it is assumed that multiple loaded `.csv` files should be merged/stitched into a single `DataFrame`/table and it will show up as only one file (for now the default name is just `Probostat`).  \n",
    "\n",
    "*Why?* Usually with Probostat multiple of those files refer to a single experiment/measurement period.\n",
    "</details>\n",
    "\n",
    "---\n",
    "\n",
    "**Question 2: Ok, that's why it is only one file. But what if I want multiple Probostat files to stay separate files?**  \n",
    "*Answer 2*\n",
    "<details><summary>Click here</summary>\n",
    "\n",
    "Shortly - `.csv` files WILL always be merged, `.xlsx` files WILL NOT be merged.  \n",
    "So if you want to keep some Probostat files separate, import is as an `.xlsx` file.  \n",
    "The `.xslx` files can be obtained by using the method `[brlopack object name here].exportToExcel()`. \n",
    "\n",
    "**Specific example of usage**\n",
    "<details><summary>Click here</summary>\n",
    "\n",
    "Let's say you've got a file structure like this:\n",
    "```\n",
    "experiments/\n",
    "├── experiment1/\n",
    "│   ├── measurement1.csv\n",
    "│   ├── measurement2.csv\n",
    "│   └── measurement3.csv\n",
    "│\n",
    "├── experiment2/\n",
    "│   ├── measurement1.csv\n",
    "│   └── measurement2.csv\n",
    "│\n",
    "└── experiment3/\n",
    "    ├── measurement1.csv\n",
    "    ├── measurement2.csv\n",
    "    ├── measurement3.csv\n",
    "    └── measurement4.csv\n",
    "\n",
    "```\n",
    "\n",
    "If you import all of them at the same time, that's no good.  \n",
    "\n",
    "So here's what you do:\n",
    "```\n",
    "experiment1_session = brlopack.brlopack()\n",
    "experiment1_files = [\n",
    "    'experiments/experiment1/measurement1.csv',\n",
    "    'experiments/experiment1/measurement2.csv',\n",
    "    'experiments/experiment1/measurement3.csv',\n",
    "]\n",
    "experiment1_session.tellFiles(experiment1_files)\n",
    "experiment1_session.exportToExcel()\n",
    "```\n",
    "This will create a distinct `.xlsx` file for each experiment.  \n",
    "Let's say you rename them into something pretty, and your file structure now looks like this:\n",
    "\n",
    "```\n",
    "experiments/\n",
    "├── experiment1/\n",
    "│   └── same files like before...\n",
    "│\n",
    "├── experiment2/\n",
    "│   └── same files like before...\n",
    "│\n",
    "├── experiment3/\n",
    "│   └── same files like before...\n",
    "│\n",
    "└── brillo exports/\n",
    "    ├── experiment1.xlsx\n",
    "    ├── experiment2.xlsx\n",
    "    └── experiment3.xlsx\n",
    "\n",
    "```\n",
    "\n",
    "Now you may work with them as separate\n",
    "```\n",
    "multi_experiment_session = brlopack.brlopack()\n",
    "all_experiment_files = [\n",
    "    'experiments/brillo exports/experiment1.xlsx',\n",
    "    'experiments/brillo exports/experiment2.xlsx',\n",
    "    'experiments/brillo exports/experiment3.xlsx'\n",
    "]\n",
    "multi_experiment_session.tellFiles(all_experiment_files)\n",
    "# do whatever analysis you want, when you are done:\n",
    "multi_experiment_session.exportToExcel()\n",
    "```\n",
    "When exported, each of the experiments will be a separate sheet in Excel!\n",
    "\n",
    "</details>\n",
    "</details>\n",
    "\n",
    "---\n",
    "\n",
    "**Question 3 (not important, feel free to skip): Why does it work like this?**  \n",
    "*Answer 3*\n",
    "<details><summary>Click here</summary>\n",
    "\n",
    "Shortly - It made sense to design it like this for the specific constraints that we had at the time.  \n",
    "\n",
    "Origin had a lot of problems when exporting all of the measured data from multiple sensors into a single `.csv` file. We had to export data of 2-3 sensors at the most per `.csv` file. Sensors did not necessarily all start to measure from the same point in time, nor did they finish at the same point in time, leading to a lot of `NaN` (\"Not a number\") values in the table and to crashing. That's why we stitch them back here in the `brlopack` Python package (and for the usecase thus far, we could always assume that Probostat's `.csv` files always need to be stitched)\n",
    "\n",
    "</details>\n",
    "\n",
    "---"
   ]
  },
  {
   "cell_type": "markdown",
   "metadata": {
    "slide_type": "subslide",
    "slideshow": {
     "slide_type": "subslide"
    }
   },
   "source": [
    "#### Now let us move onto seeing the table within that file!"
   ]
  },
  {
   "cell_type": "code",
   "execution_count": 8,
   "metadata": {
    "slide_type": "fragment",
    "slideshow": {
     "slide_type": "fragment"
    }
   },
   "outputs": [
    {
     "data": {
      "text/plain": [
       "['table']"
      ]
     },
     "execution_count": 8,
     "metadata": {},
     "output_type": "execute_result"
    }
   ],
   "source": [
    "# Example: View the tables in a specific file\n",
    "#tableNames = probostat_session.tellMeTablesInFile(loadedFiles[0])\n",
    "tableNames = probostat_session.tellMeTablesInFile('Probostat')\n",
    "tableNames"
   ]
  },
  {
   "cell_type": "markdown",
   "metadata": {
    "slide_type": "subslide",
    "slideshow": {
     "slide_type": "subslide"
    }
   },
   "source": [
    "**Note**: With Probostat's `.csv` files, there will only be one table in the beginning.  \n",
    "We will change this in the next step!\n",
    "\n",
    "Let us save this table in a variable and try to peek into its contents!"
   ]
  },
  {
   "cell_type": "code",
   "execution_count": 9,
   "metadata": {
    "slide_type": "subslide",
    "slideshow": {
     "slide_type": "fragment"
    }
   },
   "outputs": [
    {
     "data": {
      "text/html": [
       "<div>\n",
       "<style scoped>\n",
       "    .dataframe tbody tr th:only-of-type {\n",
       "        vertical-align: middle;\n",
       "    }\n",
       "\n",
       "    .dataframe tbody tr th {\n",
       "        vertical-align: top;\n",
       "    }\n",
       "\n",
       "    .dataframe thead th {\n",
       "        text-align: right;\n",
       "    }\n",
       "</style>\n",
       "<table border=\"1\" class=\"dataframe\">\n",
       "  <thead>\n",
       "    <tr style=\"text-align: right;\">\n",
       "      <th></th>\n",
       "      <th>time [min]</th>\n",
       "      <th>2pt_fwd_resistance [Ohm]</th>\n",
       "      <th>2pt_rev_resistance [Ohm]</th>\n",
       "      <th>DMM avg R [Ohm]</th>\n",
       "      <th>Flow [ml/min]</th>\n",
       "      <th>R (+1V) [Ohm]</th>\n",
       "      <th>Electrometer avg [Ohm]</th>\n",
       "      <th>R (-1V) [Ohm]</th>\n",
       "      <th>Furnace temp  [C]</th>\n",
       "      <th>Furnace cooling  [C]</th>\n",
       "      <th>Average (TCT+TCC)/2</th>\n",
       "      <th>TCT  [C]</th>\n",
       "      <th>TCC (B)  [C]</th>\n",
       "    </tr>\n",
       "  </thead>\n",
       "  <tbody>\n",
       "    <tr>\n",
       "      <th>3774</th>\n",
       "      <td>0.000000</td>\n",
       "      <td>NaN</td>\n",
       "      <td>NaN</td>\n",
       "      <td>NaN</td>\n",
       "      <td>199.375900</td>\n",
       "      <td>NaN</td>\n",
       "      <td>NaN</td>\n",
       "      <td>NaN</td>\n",
       "      <td>22.701616</td>\n",
       "      <td>0.000000</td>\n",
       "      <td>NaN</td>\n",
       "      <td>NaN</td>\n",
       "      <td>NaN</td>\n",
       "    </tr>\n",
       "    <tr>\n",
       "      <th>3775</th>\n",
       "      <td>0.109233</td>\n",
       "      <td>NaN</td>\n",
       "      <td>NaN</td>\n",
       "      <td>NaN</td>\n",
       "      <td>199.286285</td>\n",
       "      <td>NaN</td>\n",
       "      <td>NaN</td>\n",
       "      <td>NaN</td>\n",
       "      <td>22.706209</td>\n",
       "      <td>0.000000</td>\n",
       "      <td>NaN</td>\n",
       "      <td>NaN</td>\n",
       "      <td>NaN</td>\n",
       "    </tr>\n",
       "    <tr>\n",
       "      <th>3776</th>\n",
       "      <td>0.168117</td>\n",
       "      <td>NaN</td>\n",
       "      <td>NaN</td>\n",
       "      <td>NaN</td>\n",
       "      <td>199.351608</td>\n",
       "      <td>NaN</td>\n",
       "      <td>NaN</td>\n",
       "      <td>NaN</td>\n",
       "      <td>22.711246</td>\n",
       "      <td>0.000000</td>\n",
       "      <td>NaN</td>\n",
       "      <td>NaN</td>\n",
       "      <td>NaN</td>\n",
       "    </tr>\n",
       "    <tr>\n",
       "      <th>3777</th>\n",
       "      <td>0.226217</td>\n",
       "      <td>NaN</td>\n",
       "      <td>NaN</td>\n",
       "      <td>NaN</td>\n",
       "      <td>199.370743</td>\n",
       "      <td>NaN</td>\n",
       "      <td>NaN</td>\n",
       "      <td>NaN</td>\n",
       "      <td>22.702660</td>\n",
       "      <td>0.000000</td>\n",
       "      <td>NaN</td>\n",
       "      <td>NaN</td>\n",
       "      <td>NaN</td>\n",
       "    </tr>\n",
       "    <tr>\n",
       "      <th>3778</th>\n",
       "      <td>0.284300</td>\n",
       "      <td>NaN</td>\n",
       "      <td>NaN</td>\n",
       "      <td>NaN</td>\n",
       "      <td>199.338074</td>\n",
       "      <td>NaN</td>\n",
       "      <td>NaN</td>\n",
       "      <td>NaN</td>\n",
       "      <td>22.698860</td>\n",
       "      <td>0.000000</td>\n",
       "      <td>NaN</td>\n",
       "      <td>NaN</td>\n",
       "      <td>NaN</td>\n",
       "    </tr>\n",
       "    <tr>\n",
       "      <th>...</th>\n",
       "      <td>...</td>\n",
       "      <td>...</td>\n",
       "      <td>...</td>\n",
       "      <td>...</td>\n",
       "      <td>...</td>\n",
       "      <td>...</td>\n",
       "      <td>...</td>\n",
       "      <td>...</td>\n",
       "      <td>...</td>\n",
       "      <td>...</td>\n",
       "      <td>...</td>\n",
       "      <td>...</td>\n",
       "      <td>...</td>\n",
       "    </tr>\n",
       "    <tr>\n",
       "      <th>15893</th>\n",
       "      <td>4483.899483</td>\n",
       "      <td>NaN</td>\n",
       "      <td>NaN</td>\n",
       "      <td>NaN</td>\n",
       "      <td>203.542435</td>\n",
       "      <td>8.984726e+10</td>\n",
       "      <td>-7.300090e+10</td>\n",
       "      <td>-2.358491e+11</td>\n",
       "      <td>NaN</td>\n",
       "      <td>110.833641</td>\n",
       "      <td>154.609014</td>\n",
       "      <td>160.906178</td>\n",
       "      <td>148.311851</td>\n",
       "    </tr>\n",
       "    <tr>\n",
       "      <th>15894</th>\n",
       "      <td>4484.846967</td>\n",
       "      <td>NaN</td>\n",
       "      <td>NaN</td>\n",
       "      <td>NaN</td>\n",
       "      <td>203.382858</td>\n",
       "      <td>9.433962e+10</td>\n",
       "      <td>-2.189096e+10</td>\n",
       "      <td>-1.381215e+11</td>\n",
       "      <td>NaN</td>\n",
       "      <td>110.252411</td>\n",
       "      <td>153.815628</td>\n",
       "      <td>160.095249</td>\n",
       "      <td>147.536007</td>\n",
       "    </tr>\n",
       "    <tr>\n",
       "      <th>15895</th>\n",
       "      <td>4485.796783</td>\n",
       "      <td>NaN</td>\n",
       "      <td>NaN</td>\n",
       "      <td>NaN</td>\n",
       "      <td>203.300644</td>\n",
       "      <td>-7.092199e+10</td>\n",
       "      <td>1.686206e+11</td>\n",
       "      <td>4.081633e+11</td>\n",
       "      <td>NaN</td>\n",
       "      <td>109.652359</td>\n",
       "      <td>153.018553</td>\n",
       "      <td>159.276783</td>\n",
       "      <td>146.760322</td>\n",
       "    </tr>\n",
       "    <tr>\n",
       "      <th>15896</th>\n",
       "      <td>4486.746333</td>\n",
       "      <td>NaN</td>\n",
       "      <td>NaN</td>\n",
       "      <td>NaN</td>\n",
       "      <td>NaN</td>\n",
       "      <td>8.928571e+11</td>\n",
       "      <td>2.757801e+11</td>\n",
       "      <td>-3.412969e+11</td>\n",
       "      <td>NaN</td>\n",
       "      <td>109.062599</td>\n",
       "      <td>152.246187</td>\n",
       "      <td>158.472889</td>\n",
       "      <td>146.019485</td>\n",
       "    </tr>\n",
       "    <tr>\n",
       "      <th>15897</th>\n",
       "      <td>4487.694267</td>\n",
       "      <td>NaN</td>\n",
       "      <td>NaN</td>\n",
       "      <td>NaN</td>\n",
       "      <td>NaN</td>\n",
       "      <td>2.686728e+10</td>\n",
       "      <td>-9.345405e+09</td>\n",
       "      <td>-4.555809e+10</td>\n",
       "      <td>NaN</td>\n",
       "      <td>NaN</td>\n",
       "      <td>151.469408</td>\n",
       "      <td>157.698266</td>\n",
       "      <td>145.240550</td>\n",
       "    </tr>\n",
       "  </tbody>\n",
       "</table>\n",
       "<p>15898 rows × 13 columns</p>\n",
       "</div>"
      ],
      "text/plain": [
       "        time [min]  2pt_fwd_resistance [Ohm]  2pt_rev_resistance [Ohm]  \\\n",
       "3774      0.000000                       NaN                       NaN   \n",
       "3775      0.109233                       NaN                       NaN   \n",
       "3776      0.168117                       NaN                       NaN   \n",
       "3777      0.226217                       NaN                       NaN   \n",
       "3778      0.284300                       NaN                       NaN   \n",
       "...            ...                       ...                       ...   \n",
       "15893  4483.899483                       NaN                       NaN   \n",
       "15894  4484.846967                       NaN                       NaN   \n",
       "15895  4485.796783                       NaN                       NaN   \n",
       "15896  4486.746333                       NaN                       NaN   \n",
       "15897  4487.694267                       NaN                       NaN   \n",
       "\n",
       "       DMM avg R [Ohm]  Flow [ml/min]  R (+1V) [Ohm]  Electrometer avg [Ohm]  \\\n",
       "3774               NaN     199.375900            NaN                     NaN   \n",
       "3775               NaN     199.286285            NaN                     NaN   \n",
       "3776               NaN     199.351608            NaN                     NaN   \n",
       "3777               NaN     199.370743            NaN                     NaN   \n",
       "3778               NaN     199.338074            NaN                     NaN   \n",
       "...                ...            ...            ...                     ...   \n",
       "15893              NaN     203.542435   8.984726e+10           -7.300090e+10   \n",
       "15894              NaN     203.382858   9.433962e+10           -2.189096e+10   \n",
       "15895              NaN     203.300644  -7.092199e+10            1.686206e+11   \n",
       "15896              NaN            NaN   8.928571e+11            2.757801e+11   \n",
       "15897              NaN            NaN   2.686728e+10           -9.345405e+09   \n",
       "\n",
       "       R (-1V) [Ohm]  Furnace temp  [C]  Furnace cooling  [C]  \\\n",
       "3774             NaN          22.701616              0.000000   \n",
       "3775             NaN          22.706209              0.000000   \n",
       "3776             NaN          22.711246              0.000000   \n",
       "3777             NaN          22.702660              0.000000   \n",
       "3778             NaN          22.698860              0.000000   \n",
       "...              ...                ...                   ...   \n",
       "15893  -2.358491e+11                NaN            110.833641   \n",
       "15894  -1.381215e+11                NaN            110.252411   \n",
       "15895   4.081633e+11                NaN            109.652359   \n",
       "15896  -3.412969e+11                NaN            109.062599   \n",
       "15897  -4.555809e+10                NaN                   NaN   \n",
       "\n",
       "       Average (TCT+TCC)/2    TCT  [C]  TCC (B)  [C]  \n",
       "3774                   NaN         NaN           NaN  \n",
       "3775                   NaN         NaN           NaN  \n",
       "3776                   NaN         NaN           NaN  \n",
       "3777                   NaN         NaN           NaN  \n",
       "3778                   NaN         NaN           NaN  \n",
       "...                    ...         ...           ...  \n",
       "15893           154.609014  160.906178    148.311851  \n",
       "15894           153.815628  160.095249    147.536007  \n",
       "15895           153.018553  159.276783    146.760322  \n",
       "15896           152.246187  158.472889    146.019485  \n",
       "15897           151.469408  157.698266    145.240550  \n",
       "\n",
       "[15898 rows x 13 columns]"
      ]
     },
     "execution_count": 9,
     "metadata": {},
     "output_type": "execute_result"
    }
   ],
   "source": [
    "table = probostat_session.data['Probostat']['table']\n",
    "table"
   ]
  },
  {
   "cell_type": "markdown",
   "metadata": {
    "slide_type": "subslide",
    "slideshow": {
     "slide_type": "subslide"
    }
   },
   "source": [
    "This is kind of ugly, simply because there's a lot of columns and rows. This would be ok for a smaller table.  \n",
    "By default it chose to show you only the first and last few rows. Also it had too many columns, so it broke down the output in three parts.  \n",
    "\n",
    "This output is overwhelming let's consider something else..."
   ]
  },
  {
   "cell_type": "markdown",
   "metadata": {
    "slide_type": "subslide",
    "slideshow": {
     "slide_type": "fragment"
    }
   },
   "source": [
    "#### Let's see all of the columns in this table!"
   ]
  },
  {
   "cell_type": "code",
   "execution_count": 10,
   "metadata": {
    "slide_type": "subslide",
    "slideshow": {
     "slide_type": "fragment"
    }
   },
   "outputs": [
    {
     "data": {
      "text/plain": [
       "['time [min]',\n",
       " '2pt_fwd_resistance [Ohm]',\n",
       " '2pt_rev_resistance [Ohm]',\n",
       " 'DMM avg R [Ohm]',\n",
       " 'Flow [ml/min]',\n",
       " 'R (+1V) [Ohm]',\n",
       " 'Electrometer avg [Ohm]',\n",
       " 'R (-1V) [Ohm]',\n",
       " 'Furnace temp  [C]',\n",
       " 'Furnace cooling  [C]',\n",
       " 'Average (TCT+TCC)/2',\n",
       " 'TCT  [C]',\n",
       " 'TCC (B)  [C]']"
      ]
     },
     "execution_count": 10,
     "metadata": {},
     "output_type": "execute_result"
    }
   ],
   "source": [
    "# Example: View the columns in a specific table\n",
    "#columnNames = paket.tellMeColumnsInTable(loadedFiles[0], tableNames[0])\n",
    "columnNames = probostat_session.tellMeColumnsInTable('Probostat', 'table')\n",
    "columnNames"
   ]
  },
  {
   "cell_type": "markdown",
   "metadata": {
    "slide_type": "subslide",
    "slideshow": {
     "slide_type": "subslide"
    }
   },
   "source": [
    "#### Knowing the name of columns is vital to doing any changes to your data!\n",
    "So keep these names in mind further on.  \n",
    "You may need to copy paste some of them."
   ]
  },
  {
   "cell_type": "markdown",
   "metadata": {
    "slide_type": "slide",
    "slideshow": {
     "slide_type": "slide"
    }
   },
   "source": [
    "<div style=\"page-break-after: always\"></div>\n",
    "\n",
    "# Step 2.5 utilizing the DataFrame\n",
    "We should note that the tables in `brlopack` are actually implemented using the popular `Pandas` package.  \n",
    "Those tables are known as `DataFrame`s, which we can demonstrate by asking Python of the data type, like so:  "
   ]
  },
  {
   "cell_type": "code",
   "execution_count": 11,
   "metadata": {
    "slide_type": "fragment",
    "slideshow": {
     "slide_type": "fragment"
    }
   },
   "outputs": [
    {
     "data": {
      "text/plain": [
       "pandas.core.frame.DataFrame"
      ]
     },
     "execution_count": 11,
     "metadata": {},
     "output_type": "execute_result"
    }
   ],
   "source": [
    "type(table)"
   ]
  },
  {
   "cell_type": "markdown",
   "metadata": {
    "slide_type": "subslide",
    "slideshow": {
     "slide_type": "subslide"
    }
   },
   "source": [
    "`DataFrame`s have a lot of powerful methods.  \n",
    "Let's look at the simple example of `.info()`, offering a nice overview.  \n",
    "There is also `.plot()` which may require more care (but in less lines of code than what is presented below)"
   ]
  },
  {
   "cell_type": "code",
   "execution_count": 12,
   "metadata": {
    "slide_type": "subslide",
    "slideshow": {
     "slide_type": "fragment"
    }
   },
   "outputs": [
    {
     "name": "stdout",
     "output_type": "stream",
     "text": [
      "<class 'pandas.core.frame.DataFrame'>\n",
      "Int64Index: 15898 entries, 3774 to 15897\n",
      "Data columns (total 13 columns):\n",
      " #   Column                    Non-Null Count  Dtype  \n",
      "---  ------                    --------------  -----  \n",
      " 0   time [min]                15898 non-null  float64\n",
      " 1   2pt_fwd_resistance [Ohm]  3768 non-null   float64\n",
      " 2   2pt_rev_resistance [Ohm]  3774 non-null   float64\n",
      " 3   DMM avg R [Ohm]           3768 non-null   float64\n",
      " 4   Flow [ml/min]             15896 non-null  float64\n",
      " 5   R (+1V) [Ohm]             4542 non-null   float64\n",
      " 6   Electrometer avg [Ohm]    4542 non-null   float64\n",
      " 7   R (-1V) [Ohm]             4542 non-null   float64\n",
      " 8   Furnace temp  [C]         15626 non-null  float64\n",
      " 9   Furnace cooling  [C]      15897 non-null  float64\n",
      " 10  Average (TCT+TCC)/2       4542 non-null   float64\n",
      " 11  TCT  [C]                  4542 non-null   float64\n",
      " 12  TCC (B)  [C]              4542 non-null   float64\n",
      "dtypes: float64(13)\n",
      "memory usage: 1.7 MB\n"
     ]
    }
   ],
   "source": [
    "table.info()"
   ]
  },
  {
   "cell_type": "code",
   "execution_count": 13,
   "metadata": {
    "slide_type": "subslide",
    "slideshow": {
     "slide_type": "fragment"
    }
   },
   "outputs": [
    {
     "data": {
      "text/plain": [
       "\"plotKinds = ['line', 'hist', 'scatter', 'box', 'area', 'kde', 'density', 'hexbin']\\nnewTable = table.dropna()\\nfrom matplotlib import pyplot as plt\\nfor kind in plotKinds:\\n    print(kind)\\n    try:\\n        newTable.plot(x='time [min]', kind=kind, subplots=True)\\n    except:\\n        try:\\n            newTable.plot(kind=kind)\\n        except Exception as e:\\n            print(e)\\n            continue\\n    plt.show()\""
      ]
     },
     "execution_count": 13,
     "metadata": {},
     "output_type": "execute_result"
    }
   ],
   "source": [
    "\"\"\"plotKinds = ['line', 'hist', 'scatter', 'box', 'area', 'kde', 'density', 'hexbin']\n",
    "newTable = table.dropna()\n",
    "from matplotlib import pyplot as plt\n",
    "for kind in plotKinds:\n",
    "    print(kind)\n",
    "    try:\n",
    "        newTable.plot(x='time [min]', kind=kind, subplots=True)\n",
    "    except:\n",
    "        try:\n",
    "            newTable.plot(kind=kind)\n",
    "        except Exception as e:\n",
    "            print(e)\n",
    "            continue\n",
    "    plt.show()\"\"\""
   ]
  },
  {
   "cell_type": "markdown",
   "metadata": {
    "slide_type": "subslide",
    "slideshow": {
     "slide_type": "subslide"
    }
   },
   "source": [
    "That's much nicer. There are some other methods such as:\n",
    "- `.describe()` for a bunch of statistical info\n",
    "- `.head()` for the first few rows\n",
    "- `.tail()` for the last few rows  \n",
    "etc...  \n",
    "\n",
    "To learn more about the powerful options `Pandas` offers (that we mostly didn't use), Google [**\"Pandas documentation\"**](https://pandas.pydata.org/docs/) or [**\"Pandas code examples\"**](https://pandas.pydata.org/docs/user_guide/10min.html).  \n",
    "Alternatively, consider asking ChatGPT **\"How can I do [your idea] over a Pandas DataFrame?**.  \n",
    "\n",
    "---\n",
    "Ok, now we can get back to the main analysis."
   ]
  },
  {
   "cell_type": "markdown",
   "metadata": {
    "slide_type": "slide",
    "slideshow": {
     "slide_type": "slide"
    }
   },
   "source": [
    "---\n",
    "<div style=\"page-break-after: always\"></div> \n",
    "\n",
    "# Step 3: Split the Probostat data\n",
    "For Probostat experiments I saw, we want to separate the data into isothermic and dynamic  \n",
    "(that is, depending on whether or not temp is stable, or changing).  \n",
    "\n",
    "Here's how to do it:"
   ]
  },
  {
   "cell_type": "markdown",
   "metadata": {
    "slide_type": "subslide",
    "slideshow": {
     "slide_type": "subslide"
    }
   },
   "source": [
    "We do that using `separateData(columnName)`.\n",
    "It looks at the data in a specific column and splits the whole table into segments where the data in that column is rising, dropping or staying around the same value. Also separates out if there is no value.  \n",
    "\n",
    "**Note**: Right now it only works with data that is shaped like ____/`````\\\\_, because a generalized algorithm created a lot of bugs. If necessary, I can make the generalized one, please let me know."
   ]
  },
  {
   "cell_type": "code",
   "execution_count": 14,
   "metadata": {
    "slide_type": "fragment",
    "slideshow": {
     "slide_type": "fragment"
    }
   },
   "outputs": [],
   "source": [
    "#probostat_session = debug_session\n",
    "debug_session = probostat_session.create_copy()"
   ]
  },
  {
   "cell_type": "code",
   "execution_count": 15,
   "metadata": {
    "slide_type": "subslide",
    "slideshow": {
     "slide_type": "fragment"
    }
   },
   "outputs": [
    {
     "name": "stdout",
     "output_type": "stream",
     "text": [
      "into loop\n",
      "iter\n",
      "no need to pop\n",
      "next iteration\n",
      "iter\n",
      "no need to pop\n",
      "next iteration\n",
      "iter\n",
      "no need to pop\n",
      "next iteration\n",
      "iter\n",
      "no need to pop\n",
      "next iteration\n",
      "all good\n"
     ]
    },
    {
     "name": "stderr",
     "output_type": "stream",
     "text": [
      "c:\\Users\\Milan\\Documents\\git clones\\Brillo\\splitting\\newSplittingDF.py:150: FutureWarning: The behavior of `series[i:j]` with an integer-dtype index is deprecated. In a future version, this will be treated as *label-based* indexing, consistent with e.g. `series[i]` lookups. To retain the old behavior, use `series.iloc[i:j]`. To get the future behavior, use `series.loc[i:j]`.\n",
      "  first, second = array[:n//2], array[n//2:]\n",
      "c:\\Users\\Milan\\Documents\\git clones\\Brillo\\splitting\\newSplittingDF.py:150: FutureWarning: The behavior of `series[i:j]` with an integer-dtype index is deprecated. In a future version, this will be treated as *label-based* indexing, consistent with e.g. `series[i]` lookups. To retain the old behavior, use `series.iloc[i:j]`. To get the future behavior, use `series.loc[i:j]`.\n",
      "  first, second = array[:n//2], array[n//2:]\n"
     ]
    }
   ],
   "source": [
    "probostat_session.separateData(\"Average (TCT+TCC)/2\")"
   ]
  },
  {
   "cell_type": "markdown",
   "metadata": {
    "slide_type": "subslide",
    "slideshow": {
     "slide_type": "subslide"
    }
   },
   "source": [
    "Now let us observe the effects of this operation!"
   ]
  },
  {
   "cell_type": "code",
   "execution_count": 16,
   "metadata": {
    "slide_type": "subslide",
    "slideshow": {
     "slide_type": "fragment"
    }
   },
   "outputs": [
    {
     "data": {
      "text/plain": [
       "['Probostat']"
      ]
     },
     "execution_count": 16,
     "metadata": {},
     "output_type": "execute_result"
    }
   ],
   "source": [
    "probostat_session.tellMeFiles()"
   ]
  },
  {
   "cell_type": "markdown",
   "metadata": {
    "slide_type": "subslide",
    "slideshow": {
     "slide_type": "subslide"
    }
   },
   "source": [
    "The files are not changed, let us see the tables:"
   ]
  },
  {
   "cell_type": "code",
   "execution_count": 17,
   "metadata": {
    "slide_type": "subslide",
    "slideshow": {
     "slide_type": "fragment"
    }
   },
   "outputs": [
    {
     "data": {
      "text/plain": [
       "['flat', 'rise', 'drop', 'nan']"
      ]
     },
     "execution_count": 17,
     "metadata": {},
     "output_type": "execute_result"
    }
   ],
   "source": [
    "probostat_session.tellMeTablesInFile('Probostat')"
   ]
  },
  {
   "cell_type": "markdown",
   "metadata": {
    "slide_type": "subslide",
    "slideshow": {
     "slide_type": "fragment"
    }
   },
   "source": [
    "We now have `rise`, `flat`, `drop` and `nan` instead of `table` after applying the separation operation!\n",
    "\n",
    "---"
   ]
  },
  {
   "cell_type": "markdown",
   "metadata": {
    "slide_type": "slide",
    "slideshow": {
     "slide_type": "slide"
    }
   },
   "source": [
    "---\n",
    "<div style=\"page-break-after: always\"></div>\n",
    "\n",
    "# Step 4: Manipulate Data\n",
    "Here you can perform essential data manipulations, such as unit conversion."
   ]
  },
  {
   "cell_type": "markdown",
   "metadata": {
    "slide_type": "subslide",
    "slideshow": {
     "slide_type": "subslide"
    }
   },
   "source": [
    "\n",
    "Here is a list of all of the operations that you can do (methods defined in the `brlopack` class):\n",
    " 1. `divideConstant(columnName, newColumnName, constName)`\n",
    " 2. `multiplyConstant(columnName, newColumnName, constName)`\n",
    " 3. `subtractConstant(columnName, newColumnName, constName)`\n",
    " 4. `addConstant(columnName, newColumnName, constName)`\n",
    " 5. `inverseColumn(columnName, newColumnName, constName=None)`\n",
    " 6. `squareColumn(columnName, newColumnName, constName=None)`\n",
    " 7. `sqrtColumn(columnName, newColumnName, constName=None)`\n",
    " 8. `averageTwoColumns(columnName, newColumnName, secondColumn)`\n",
    " 9. `changeUnitOfConstant(constantName, unitPrefix)`\n",
    " 10. `logN(columnName, newColumnName, constName=None)`\n",
    " 11. `logConstant(columnName, newColumnName, constName)`\n",
    " 12. `changeUnitOfColumn(columnName, newColumnName)`\n",
    " 13. [Others can be made](./tutorials/2.%20How%20to%20make%20your%20own%20operations.ipynb) <sub><span style=\"color:red;\">*</span></sub>  \n",
    "\n",
    "The operations are generally preformed across all files and tables."
   ]
  },
  {
   "cell_type": "code",
   "execution_count": 18,
   "metadata": {
    "slide_type": "fragment",
    "slideshow": {
     "slide_type": "subslide"
    }
   },
   "outputs": [
    {
     "name": "stdout",
     "output_type": "stream",
     "text": [
      "The newest added column is:  Kvadriran otpor [Ohm^2]\n"
     ]
    }
   ],
   "source": [
    "try:\n",
    "    # Just put in any of the operations from above into line 3\n",
    "    probostat_session.squareColumn(columnName=columnNames[2], newColumnName=\"Kvadriran otpor [Ohm^2]\")\n",
    "\n",
    "    all_columns = probostat_session.tellMeColumnsInTable('Probostat', 'flat') # could've printed from any other file/table\n",
    "    last_column = all_columns[-1]\n",
    "    print(\"The newest added column is: \", last_column)\n",
    "\n",
    "except Exception as e:\n",
    "    if type(e).__name__ == \"KeyError\":\n",
    "        print(\"You probably typed an incorrect name of column.\")\n",
    "    print(f\"The following error happened: {type(e).__name__}: {e}\")"
   ]
  },
  {
   "cell_type": "markdown",
   "metadata": {
    "slide_type": "subslide",
    "slideshow": {
     "slide_type": "fragment"
    }
   },
   "source": [
    "#### Make sure to play around and change the `line 3` in code cell above to use any other operation!\n",
    "\n",
    "The cell will print out the name of the column you just created!\n",
    "\n",
    "---"
   ]
  },
  {
   "cell_type": "markdown",
   "metadata": {
    "slide_type": "slide",
    "slideshow": {
     "slide_type": "slide"
    }
   },
   "source": [
    "<div style=\"page-break-after: always\"></div>\n",
    "\n",
    "# Step 4.5 **unit conversions**!  \n",
    "\n",
    "Let's pay some special attention to the twelfth operation from our list!  \n",
    "\n",
    "For example, we could change the unit of this column from ohms to mili-ohms:"
   ]
  },
  {
   "cell_type": "code",
   "execution_count": 19,
   "metadata": {
    "slide_type": "fragment",
    "slideshow": {
     "slide_type": "fragment"
    }
   },
   "outputs": [],
   "source": [
    "probostat_session.changeUnitOfColumn(\"2pt_fwd_resistance [Ohm]\", \"2pt_fwd_resistance [mOhm]\")"
   ]
  },
  {
   "cell_type": "markdown",
   "metadata": {
    "slide_type": "subslide",
    "slideshow": {
     "slide_type": "subslide"
    }
   },
   "source": [
    "You are also able to do all other *decimal and prefix based* unit conversions (so only multiples of 10).  \n",
    "\n",
    " 1. It uses all SI prefixes **from pico to terra** (read more in [`valueConversion.py`](./valueConversion.py))  \n",
    " 2. **Works with exponents**. It will correctly convert 1m<sup>2</sup> into 10 000cm<sup>2</sup>. Same with cubed<sup>3</sup>. Up until <sup>9</sup> (no support for 10-dimensional units)\n",
    " 3. **No support for imperial** (inches, feet, pounds etc)\n",
    "\n",
    "**Note**: When doing unit conversions, you must use proper SI prefixes and suffixes  \n",
    "          (so \"mega\" has to be a capital \"M\", mili must be a lower case \"m\").\n",
    "\n",
    "**Note 2**: ***You must use <span style=\"color:red;\">square brackets</span> for the units, otherwise code will not crash.***"
   ]
  },
  {
   "cell_type": "markdown",
   "metadata": {
    "slide_type": "subslide",
    "slideshow": {
     "slide_type": "subslide"
    }
   },
   "source": [
    "Let us now see the changes to our table after this operation!  \n",
    "**Note**: you will have to scroll all the way to the right to see the newly added columns."
   ]
  },
  {
   "cell_type": "code",
   "execution_count": 20,
   "metadata": {
    "slide_type": "subslide",
    "slideshow": {
     "slide_type": "fragment"
    }
   },
   "outputs": [
    {
     "name": "stdout",
     "output_type": "stream",
     "text": [
      "['time [min]', '2pt_fwd_resistance [Ohm]', '2pt_rev_resistance [Ohm]', 'DMM avg R [Ohm]', 'Flow [ml/min]', 'R (+1V) [Ohm]', 'Electrometer avg [Ohm]', 'R (-1V) [Ohm]', 'Furnace temp  [C]', 'Furnace cooling  [C]', 'Average (TCT+TCC)/2', 'TCT  [C]', 'TCC (B)  [C]', 'Kvadriran otpor [Ohm^2]', '2pt_fwd_resistance [mOhm]']\n",
      "['time [min]', '2pt_fwd_resistance [Ohm]', '2pt_rev_resistance [Ohm]', 'DMM avg R [Ohm]', 'Flow [ml/min]', 'R (+1V) [Ohm]', 'Electrometer avg [Ohm]', 'R (-1V) [Ohm]', 'Furnace temp  [C]', 'Furnace cooling  [C]', 'Average (TCT+TCC)/2', 'TCT  [C]', 'TCC (B)  [C]', 'Kvadriran otpor [Ohm^2]', '2pt_fwd_resistance [mOhm]']\n",
      "['time [min]', '2pt_fwd_resistance [Ohm]', '2pt_rev_resistance [Ohm]', 'DMM avg R [Ohm]', 'Flow [ml/min]', 'R (+1V) [Ohm]', 'Electrometer avg [Ohm]', 'R (-1V) [Ohm]', 'Furnace temp  [C]', 'Furnace cooling  [C]', 'Average (TCT+TCC)/2', 'TCT  [C]', 'TCC (B)  [C]', 'Kvadriran otpor [Ohm^2]', '2pt_fwd_resistance [mOhm]']\n",
      "['time [min]', '2pt_fwd_resistance [Ohm]', '2pt_rev_resistance [Ohm]', 'DMM avg R [Ohm]', 'Flow [ml/min]', 'R (+1V) [Ohm]', 'Electrometer avg [Ohm]', 'R (-1V) [Ohm]', 'Furnace temp  [C]', 'Furnace cooling  [C]', 'Average (TCT+TCC)/2', 'TCT  [C]', 'TCC (B)  [C]', 'Kvadriran otpor [Ohm^2]', '2pt_fwd_resistance [mOhm]']\n"
     ]
    }
   ],
   "source": [
    "for table in ['rise', 'flat', 'drop', 'nan']:\n",
    "    print(probostat_session.tellMeColumnsInTable('Probostat', table))"
   ]
  },
  {
   "cell_type": "markdown",
   "metadata": {
    "slide_type": "slide",
    "slideshow": {
     "slide_type": "slide"
    }
   },
   "source": [
    "---\n",
    "<div style=\"page-break-after: always\"></div> \n",
    "\n",
    "# Step 5: Export Processed Data\n",
    "Finally, you can export the processed data to an Excel file."
   ]
  },
  {
   "cell_type": "code",
   "execution_count": 21,
   "metadata": {
    "slide_type": "fragment",
    "slideshow": {
     "slide_type": "fragment"
    }
   },
   "outputs": [],
   "source": [
    "# Export the data to an Excel file\n",
    "probostat_session.exportToExcel()"
   ]
  },
  {
   "cell_type": "markdown",
   "metadata": {
    "slide_type": "slide",
    "slideshow": {
     "slide_type": "slide"
    }
   },
   "source": [
    "---\n",
    "<div style=\"page-break-after: always\"></div>\n",
    "\n",
    "# Step 6: Plotting\n",
    "Here we can also select a subset of files, tables and columns for plotting, among other things.  \n",
    "\n",
    "Read the tooltips/docstrings for `plotData()` to learn what each argument does."
   ]
  },
  {
   "cell_type": "code",
   "execution_count": 22,
   "metadata": {
    "slide_type": "fragment",
    "slideshow": {
     "slide_type": "fragment"
    }
   },
   "outputs": [
    {
     "data": {
      "image/png": "[encoded data removed]",
      "text/plain": [
       "<Figure size 640x480 with 1 Axes>"
      ]
     },
     "metadata": {},
     "output_type": "display_data"
    }
   ],
   "source": [
    "x_axis = columnNames[0]\n",
    "y_axes = [\"Average (TCT+TCC)/2\"]\n",
    "probostat_session.plotData(x_axis, y_axes, None, None, None, None, \"Dotted\", show=True, showLegend=True, showGrid=True)"
   ]
  },
  {
   "cell_type": "markdown",
   "metadata": {
    "slide_type": "subslide",
    "slideshow": {
     "slide_type": "subslide"
    }
   },
   "source": [
    "This plot is used to prove that splitting has worked properly!  \n",
    "Of course you may make any other plots."
   ]
  },
  {
   "cell_type": "markdown",
   "metadata": {
    "slide_type": "slide",
    "slideshow": {
     "slide_type": "slide"
    }
   },
   "source": [
    "---\n",
    "\n",
    "# Conclusion\n",
    "<div style=\"font-size:16pt; \">\n",
    "\n",
    " - You have successfully:\n",
    "<div style=\"font-size:13pt; \">\n",
    "\n",
    " 1. loaded  \n",
    " 2. viewed  \n",
    " 3. manipulated  \n",
    " 4. exported + visualized  \n",
    "</div>\n",
    "  your Probostat data.  \n",
    "  \n",
    " - Feel free to **modify the code cells** to work with your specific data and requirements!  \n",
    " - You may also **contact me** with *any questions* you might have over email or WhatsApp (ask around the office).\n",
    "</div>"
   ]
  }
 ],
 "metadata": {
  "celltoolbar": "Slideshow",
  "kernelspec": {
   "display_name": "Python 3.10.6 64-bit",
   "language": "python",
   "name": "python3"
  },
  "language_info": {
   "codemirror_mode": {
    "name": "ipython",
    "version": 3
   },
   "file_extension": ".py",
   "mimetype": "text/x-python",
   "name": "python",
   "nbconvert_exporter": "python",
   "pygments_lexer": "ipython3",
   "version": "3.10.6"
  },
  "livereveal": {
   "autolaunch": true
  },
  "rise": {
   "autolaunch": true
  },
  "vscode": {
   "interpreter": {
    "hash": "b6831fdcc8d1dbdf229dbca682f9bfb4c7cd4f79f05ee82647bfdfb313ccbe3c"
   }
  }
 },
 "nbformat": 4,
 "nbformat_minor": 4
}
