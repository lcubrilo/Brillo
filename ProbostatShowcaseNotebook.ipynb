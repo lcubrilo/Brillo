{
 "cells": [
  {
   "cell_type": "markdown",
   "metadata": {},
   "source": [
    "# Probostat Data Processing Notebook\n",
    "This notebook provides a concise and user-friendly interface to work with Probostat data files. Follow the steps to load, view, manipulate, and export your data."
   ]
  },
  {
   "cell_type": "markdown",
   "metadata": {},
   "source": [
    "\n",
    "---\n",
    "\n",
    "## Step 0: Installing external packages missing on the system\n",
    "This project is using Python packages developed by members of the open-source community, and they are necessary for you to be able to run these scripts.  \n",
    "If you have a fresh install of Python on this machine, you will need to install them.  \n",
    "\n",
    "If you already installed the prerequisites, feel free to skip."
   ]
  },
  {
   "cell_type": "code",
   "execution_count": null,
   "metadata": {},
   "outputs": [],
   "source": [
    "#!pip install -r requirements.txt"
   ]
  },
  {
   "cell_type": "markdown",
   "metadata": {},
   "source": [
    "*Hint*: I've commented the line above so it doesn't automatically run when you click `Run all`. To make it runnable, delete the `#` symbol at the beginning of the line. (Keep the `!` symbol)"
   ]
  },
  {
   "cell_type": "markdown",
   "metadata": {},
   "source": [
    "\n",
    "## Step 1: Load Probostat Files into `brlopack` object\n",
    "First we will import the package I have made for data processing, called `brlopack`."
   ]
  },
  {
   "cell_type": "code",
   "execution_count": null,
   "metadata": {},
   "outputs": [],
   "source": [
    "import brlopack"
   ]
  },
  {
   "cell_type": "markdown",
   "metadata": {},
   "source": [
    "**Note**: If you ever run into some sort of an issue, not being sure what is `brlopack`, what is `Brillo`, refer to [this notebook](tutorials/1.%20What%20is%20brlopack%20and%20Brillo.ipynb)."
   ]
  },
  {
   "cell_type": "markdown",
   "metadata": {},
   "source": [
    "### Initialize the BrloPack object\n",
    "We need to make a `brlopack` object. We can name it whatever we want. Let's say we name it `probostat_session`.  \n",
    "\n",
    "After that we will load some files into that object. Then we can do whichever operations/functions/methods we want over the loaded data."
   ]
  },
  {
   "cell_type": "code",
   "execution_count": null,
   "metadata": {},
   "outputs": [],
   "source": [
    "probostat_session = brlopack.brlopack()"
   ]
  },
  {
   "cell_type": "markdown",
   "metadata": {},
   "source": [
    "Now let's load the **Probostat** data files into `probostat_session`.  \n",
    "Please make sure the files were exported from Origin in the `.csv` format :)  \n",
    "\n",
    "You can find more details below (optinal):\n",
    "<details><summary>Click here</summary>\n",
    "\n",
    "Note 1: you may also choose to load files that were exported from `brlopack` (`.xslx` format)  \n",
    "Note 2: `brlopack` can also work on **aixACCT** `.dat` files.\n",
    "\n",
    "There's more than one way to select which files will be loaded:\n",
    "1. Passing a list of filepaths to `.tellFiles()` method\n",
    "2. Selecting the files through a **popup window** using `browseDirectories()` method\n",
    "3. ~~Manually assigning it to the `.wantedFiles` variable~~ (preferrably avoid this)\n",
    "\n",
    "You should use only one of these approaches, not more (comment out the other two you are not using with a '#' in the beginning of the line)\n",
    "</details>"
   ]
  },
  {
   "cell_type": "code",
   "execution_count": null,
   "metadata": {},
   "outputs": [],
   "source": [
    "# Approach 1 - List of Probostat files to load\n",
    "# you can use \"relative\" or \"absolute\" paths\n",
    "probostat_files1 = [\n",
    "    'data/probostat/new/BCTZ_16cikel za lukata loceno-2 point resistances.csv',\n",
    "    'data/probostat/new/BCTZ_16cikel za lukata loceno-Flow.csv',\n",
    "    'data/probostat/new/BCTZ_16cikel za lukata loceno-Keysiht MC.csv',\n",
    "    'data/probostat/new/BCTZ_16cikel za lukata loceno-Temp.csv'\n",
    "]\n",
    "probostat_files2 = [\n",
    "    'data/probostat/new2/BFO_BT_-TEMPLATE_5 nov nod za pec-2 point R [Ohm).csv',\n",
    "    'data/probostat/new2/BFO_BT_-TEMPLATE_5 nov nod za pec-4 point R [Ohm].csv',\n",
    "    'data/probostat/new2/BFO_BT_-TEMPLATE_5 nov nod za pec-Flow N2.csv',\n",
    "    'data/probostat/new2/BFO_BT_-TEMPLATE_5 nov nod za pec-Keysiht MC (1).csv',\n",
    "    'data/probostat/new2/BFO_BT_-TEMPLATE_5 nov nod za pec-Keysiht MC.csv',\n",
    "    'data/probostat/new2/BFO_BT_-TEMPLATE_5 nov nod za pec-Seebeck.csv'\n",
    "]\n",
    "probostat_session.tellFiles(probostat_files1)\n",
    "\n",
    "############################\n",
    "# Approach 2 - window popup\n",
    "#paket.browseDirectories()\n",
    "\n",
    "############################\n",
    "# Approach 3 - direct assignment NOT RECOMMENDED\n",
    "#paket.wantedFiles = ['some files']"
   ]
  },
  {
   "cell_type": "markdown",
   "metadata": {},
   "source": [
    "Let's see if it worked!"
   ]
  },
  {
   "cell_type": "code",
   "execution_count": null,
   "metadata": {},
   "outputs": [],
   "source": [
    "probostat_session.tellMeFiles()"
   ]
  },
  {
   "cell_type": "markdown",
   "metadata": {},
   "source": [
    "Now we know which files `probostat_session` will try to load!   \n",
    "Let's do that immediately.  "
   ]
  },
  {
   "cell_type": "markdown",
   "metadata": {},
   "source": [
    "### Load the files into the `brlopack` object \"`probostat_session`\"\n",
    "**Note**: Loading Probostat's files can take up to 1 or 2 minutes, because it is running a costly stitching operation over these `.csv` tables.  \n",
    "Please be patient!"
   ]
  },
  {
   "cell_type": "code",
   "execution_count": null,
   "metadata": {},
   "outputs": [],
   "source": [
    "probostat_session.loadFiles()"
   ]
  },
  {
   "cell_type": "markdown",
   "metadata": {},
   "source": [
    "**Note**: You should call `.loadFiles()` right after choosing your files (i.e. do not perform other operations inbetween the two)."
   ]
  },
  {
   "cell_type": "markdown",
   "metadata": {},
   "source": [
    "## Step 2: View Data Structure and Content\n",
    "You can explore the files, tables, and columns within the loaded data.\n"
   ]
  },
  {
   "cell_type": "code",
   "execution_count": null,
   "metadata": {},
   "outputs": [],
   "source": [
    "# Example: View the files loaded\n",
    "loadedFiles = probostat_session.tellMeFiles()\n",
    "loadedFiles"
   ]
  },
  {
   "cell_type": "markdown",
   "metadata": {},
   "source": [
    "**Question 1: Why does `tellMeFiles()` now give us one file** (named 'Probostat') **; when we loaded 4?**  \n",
    "*Answer 1*\n",
    "<details><summary>Click here</summary>\n",
    "\n",
    "In the case of Probostat it is assumed that multiple loaded `.csv` files should be merged/stitched into a single `DataFrame`/table and it will show up as only one file (for now the default name is just `Probostat`).  \n",
    "\n",
    "*Why?* Usually with Probostat multiple of those files refer to a single experiment/measurement period.\n",
    "</details>\n",
    "\n",
    "---\n",
    "\n",
    "**Question 2: Ok, that's why it is only one file. But what if I want multiple Probostat files to stay separate files?**  \n",
    "*Answer 2*\n",
    "<details><summary>Click here</summary>\n",
    "\n",
    "Shortly - `.csv` files WILL always be merged, `.xlsx` files WILL NOT be merged.  \n",
    "So if you want to keep some Probostat files separate, import is as an `.xlsx` file.  \n",
    "The `.xslx` files can be obtained by using the method `[brlopack object name here].exportToExcel()`. \n",
    "\n",
    "**Specific example of usage**\n",
    "<details><summary>Click here</summary>\n",
    "\n",
    "Let's say you've got a file structure like this:\n",
    "```\n",
    "experiments/\n",
    "├── experiment1/\n",
    "│   ├── measurement1.csv\n",
    "│   ├── measurement2.csv\n",
    "│   └── measurement3.csv\n",
    "│\n",
    "├── experiment2/\n",
    "│   ├── measurement1.csv\n",
    "│   └── measurement2.csv\n",
    "│\n",
    "└── experiment3/\n",
    "    ├── measurement1.csv\n",
    "    ├── measurement2.csv\n",
    "    ├── measurement3.csv\n",
    "    └── measurement4.csv\n",
    "\n",
    "```\n",
    "\n",
    "If you import all of them at the same time, that's no good.  \n",
    "\n",
    "So here's what you do:\n",
    "```\n",
    "experiment1_session = brlopack.brlopack()\n",
    "experiment1_files = [\n",
    "    'experiments/experiment1/measurement1.csv',\n",
    "    'experiments/experiment1/measurement2.csv',\n",
    "    'experiments/experiment1/measurement3.csv',\n",
    "]\n",
    "experiment1_session.tellFiles(experiment1_files)\n",
    "experiment1_session.exportToExcel()\n",
    "```\n",
    "This will create a distinct `.xlsx` file for each experiment.  \n",
    "Let's say you rename them into something pretty, and your file structure now looks like this:\n",
    "\n",
    "```\n",
    "experiments/\n",
    "├── experiment1/\n",
    "│   └── same files like before...\n",
    "│\n",
    "├── experiment2/\n",
    "│   └── same files like before...\n",
    "│\n",
    "├── experiment3/\n",
    "│   └── same files like before...\n",
    "│\n",
    "└── brillo exports/\n",
    "    ├── experiment1.xlsx\n",
    "    ├── experiment2.xlsx\n",
    "    └── experiment3.xlsx\n",
    "\n",
    "```\n",
    "\n",
    "Now you may work with them as separate\n",
    "```\n",
    "multi_experiment_session = brlopack.brlopack()\n",
    "all_experiment_files = [\n",
    "    'experiments/brillo exports/experiment1.xlsx',\n",
    "    'experiments/brillo exports/experiment2.xlsx',\n",
    "    'experiments/brillo exports/experiment3.xlsx'\n",
    "]\n",
    "multi_experiment_session.tellFiles(all_experiment_files)\n",
    "# do whatever analysis you want, when you are done:\n",
    "multi_experiment_session.exportToExcel()\n",
    "```\n",
    "When exported, each of the experiments will be a separate sheet in Excel!\n",
    "\n",
    "</details>\n",
    "</details>\n",
    "\n",
    "---\n",
    "\n",
    "**Question 3 (not important, feel free to skip): Why does it work like this?**  \n",
    "*Answer 3*\n",
    "<details><summary>Click here</summary>\n",
    "\n",
    "Shortly - It made sense to design it like this for the specific constraints that we had at the time.  \n",
    "\n",
    "Origin had a lot of problems when exporting all of the measured data from multiple sensors into a single `.csv` file. We had to export data of 2-3 sensors at the most per `.csv` file. Sensors did not necessarily all start to measure from the same point in time, nor did they finish at the same point in time, leading to a lot of `NaN` (\"Not a number\") values in the table and to crashing. That's why we stitch them back here in the `brlopack` Python package (and for the usecase thus far, we could always assume that Probostat's `.csv` files always need to be stitched)\n",
    "\n",
    "</details>\n",
    "\n",
    "---"
   ]
  },
  {
   "cell_type": "markdown",
   "metadata": {},
   "source": [
    "#### Now let us move onto seeing the table within that file!"
   ]
  },
  {
   "cell_type": "code",
   "execution_count": null,
   "metadata": {},
   "outputs": [],
   "source": [
    "# Example: View the tables in a specific file\n",
    "#tableNames = probostat_session.tellMeTablesInFile(loadedFiles[0])\n",
    "tableNames = probostat_session.tellMeTablesInFile('Probostat')\n",
    "tableNames"
   ]
  },
  {
   "cell_type": "markdown",
   "metadata": {},
   "source": [
    "**Note**: With Probostat's `.csv` files, there will only be one table in the beginning.  \n",
    "We will change this in the next step!\n",
    "\n",
    "Let us save this table in a variable and try to peek into its contents!"
   ]
  },
  {
   "cell_type": "code",
   "execution_count": null,
   "metadata": {},
   "outputs": [],
   "source": [
    "table = probostat_session.data['Probostat']['table']\n",
    "table"
   ]
  },
  {
   "cell_type": "markdown",
   "metadata": {},
   "source": [
    "This is kind of ugly, simply because there's a lot of columns and rows. This would be ok for a smaller table.  \n",
    "By default it chose to show you only the first and last few rows. Also it had too many columns, so it broke down the output in three parts.  \n",
    "\n",
    "This output is overwhelming let's consider something else..."
   ]
  },
  {
   "cell_type": "markdown",
   "metadata": {},
   "source": [
    "#### Let's see all of the columns in this table!"
   ]
  },
  {
   "cell_type": "code",
   "execution_count": null,
   "metadata": {},
   "outputs": [],
   "source": [
    "# Example: View the columns in a specific table\n",
    "#columnNames = paket.tellMeColumnsInTable(loadedFiles[0], tableNames[0])\n",
    "columnNames = probostat_session.tellMeColumnsInTable('Probostat', 'table')\n",
    "columnNames"
   ]
  },
  {
   "cell_type": "markdown",
   "metadata": {},
   "source": [
    "#### Knowing the name of columns is vital to doing any changes to your data!\n",
    "So keep these names in mind further on.  \n",
    "You may need to copy paste some of them."
   ]
  },
  {
   "cell_type": "markdown",
   "metadata": {},
   "source": [
    "## Step 2.5 utilizing the DataFrame\n",
    "We should note that the tables in `brlopack` are actually implemented using the popular `Pandas` package.  \n",
    "Those tables are known as `DataFrame`s, which we can demonstrate by asking Python of the data type, like so:  "
   ]
  },
  {
   "cell_type": "code",
   "execution_count": null,
   "metadata": {},
   "outputs": [],
   "source": [
    "type(table)"
   ]
  },
  {
   "cell_type": "markdown",
   "metadata": {},
   "source": [
    "`DataFrame`s have a lot of powerful methods.  \n",
    "Let's look at the simple example of `.info()`, offering a nice overview.  \n",
    "There is also `.plot()` which may require more care (but in less lines of code than what is presented below)"
   ]
  },
  {
   "cell_type": "code",
   "execution_count": null,
   "metadata": {},
   "outputs": [],
   "source": [
    "table.info()\n",
    "\n",
    "\"\"\"\n",
    "plotKinds = ['line', 'hist', 'scatter', 'box', 'area', 'kde', 'density', 'hexbin']\n",
    "newTable = table.dropna()\n",
    "from matplotlib import pyplot as plt\n",
    "for kind in plotKinds:\n",
    "    print(kind)\n",
    "    try:\n",
    "        newTable.plot(x='time [min]', kind=kind, subplots=True)\n",
    "    except:\n",
    "        try:\n",
    "            newTable.plot(kind=kind)\n",
    "        except Exception as e:\n",
    "            print(e)\n",
    "            continue\n",
    "    plt.show()\n",
    "\"\"\""
   ]
  },
  {
   "cell_type": "markdown",
   "metadata": {},
   "source": [
    "That's much nicer. There are some other methods such as:\n",
    "- `.describe()` for a bunch of statistical info\n",
    "- `.head()` for the first few rows\n",
    "- `.tail()` for the last few rows  \n",
    "etc...  \n",
    "\n",
    "To learn more about the powerful options `Pandas` offers (that we mostly didn't use), Google [**\"Pandas documentation\"**](https://pandas.pydata.org/docs/) or [**\"Pandas code examples\"**](https://pandas.pydata.org/docs/user_guide/10min.html).  \n",
    "Alternatively, consider asking ChatGPT **\"How can I do [your idea] over a Pandas DataFrame?**.  \n",
    "\n",
    "---\n",
    "Ok, now we can get back to the main analysis."
   ]
  },
  {
   "cell_type": "markdown",
   "metadata": {},
   "source": [
    "# Step 3: Split the Probostat data\n",
    "For Probostat experiments I saw, we want to separate the data into isothermic and dynamic  \n",
    "(that is, depending on whether or not temp is stable, or changing).  \n",
    "\n",
    "Here's how to do it:"
   ]
  },
  {
   "cell_type": "markdown",
   "metadata": {},
   "source": [
    "We do that using `separateData(columnName)`.\n",
    "It looks at the data in a specific column and splits the whole table into segments where the data in that column is rising, dropping or staying around the same value. Also separates out if there is no value.  \n",
    "\n",
    "**Note**: Right now it only works with data that is shaped like ____/`````\\\\_, because a generalized algorithm created a lot of bugs. If necessary, I can make the generalized one, please let me know."
   ]
  },
  {
   "cell_type": "code",
   "execution_count": null,
   "metadata": {},
   "outputs": [],
   "source": [
    "#probostat_session = debug_session"
   ]
  },
  {
   "cell_type": "code",
   "execution_count": null,
   "metadata": {},
   "outputs": [],
   "source": [
    "probostat_session"
   ]
  },
  {
   "cell_type": "code",
   "execution_count": null,
   "metadata": {},
   "outputs": [],
   "source": [
    "debug_session = probostat_session.create_copy()"
   ]
  },
  {
   "cell_type": "code",
   "execution_count": null,
   "metadata": {},
   "outputs": [],
   "source": [
    "probostat_session.separateData(\"Average (TCT+TCC)/2\")"
   ]
  },
  {
   "cell_type": "markdown",
   "metadata": {},
   "source": [
    "Now let us observe the effects of this operation!"
   ]
  },
  {
   "cell_type": "code",
   "execution_count": null,
   "metadata": {},
   "outputs": [],
   "source": [
    "probostat_session.tellMeFiles()"
   ]
  },
  {
   "cell_type": "markdown",
   "metadata": {},
   "source": [
    "The files are not changed, let us see the tables:"
   ]
  },
  {
   "cell_type": "code",
   "execution_count": null,
   "metadata": {},
   "outputs": [],
   "source": [
    "probostat_session.tellMeTablesInFile('Probostat')"
   ]
  },
  {
   "cell_type": "markdown",
   "metadata": {},
   "source": [
    "We now have `rise`, `flat`, `drop` and `nan` instead of `table` after applying the separation operation!"
   ]
  },
  {
   "cell_type": "markdown",
   "metadata": {},
   "source": [
    "## Step 4: Manipulate Data\n",
    "Here you can perform essential data manipulations, such as unit conversion."
   ]
  },
  {
   "cell_type": "markdown",
   "metadata": {},
   "source": [
    "\n",
    "Here is a list of all of the operations that you can do (methods defined in the `brlopack` class):\n",
    " 1. `divideConstant(columnName, newColumnName, constName)`\n",
    " 2. `multiplyConstant(columnName, newColumnName, constName)`\n",
    " 3. `subtractConstant(columnName, newColumnName, constName)`\n",
    " 4. `addConstant(columnName, newColumnName, constName)`\n",
    " 5. `inverseColumn(columnName, newColumnName, constName=None)`\n",
    " 6. `squareColumn(columnName, newColumnName, constName=None)`\n",
    " 7. `sqrtColumn(columnName, newColumnName, constName=None)`\n",
    " 8. `averageTwoColumns(columnName, newColumnName, secondColumn)`\n",
    " 9. `changeUnitOfConstant(constantName, unitPrefix)`\n",
    " 10. `logN(columnName, newColumnName, constName=None)`\n",
    " 11. `logConstant(columnName, newColumnName, constName)`\n",
    "\n",
    "jedinica kolone??\n"
   ]
  },
  {
   "cell_type": "code",
   "execution_count": null,
   "metadata": {},
   "outputs": [],
   "source": [
    "# Just put in any of the operations from above\n",
    "probostat_session.squareColumn(columnName=columnNames[2], newColumnName=\"Kvadriran otpor [Ohm^2]\")"
   ]
  },
  {
   "cell_type": "markdown",
   "metadata": {},
   "source": [
    "**Warning**: Make sure that you write the proper unit of measurement in SQUARE BRACKETS.\n",
    "Otherwise unit conversions will not work, and the code might even crash.\n",
    "\n",
    "---"
   ]
  },
  {
   "cell_type": "markdown",
   "metadata": {},
   "source": [
    "**For advanced users - how to do any operation** beyond just these\n",
    "<details><summary>Click here</summary>\n",
    "\n",
    "You can open the `brlopack.py` to see how these ones were defined. You will notice they all follow the same pattern of arguments:\n",
    "1. `columnName` (str) - the input column\n",
    "2. `newColumnName` (str) - the output column\n",
    "3. `constName` (str, optional) - the constant used somehow in the operation\n",
    "\n",
    "You can also make your own method in this style using the `doOperation(operation, columnName, newColumnName, constName)` method.  \n",
    "\n",
    "Just peek into the `brlopack.py` file to see how it's done. It utilizes the so-called \"lambda functions\" or alternatively you can assign a function to a variable (yes, this is possible in Python - you can store functions in variables and pass them to other functions).\n",
    "\n",
    "If you are unsure about anything - do not hesitate to contact me over email or WhatsApp with your questions (especially if you tried to Google them or ask ChatGPT about it beforehand). If you don't have my contact info, ask around the office, someone has it!\n",
    "</details>"
   ]
  },
  {
   "cell_type": "markdown",
   "metadata": {},
   "source": [
    "\n",
    "## Step 4: Export Processed Data\n",
    "Finally, you can export the processed data to an Excel file."
   ]
  },
  {
   "cell_type": "code",
   "execution_count": null,
   "metadata": {},
   "outputs": [],
   "source": [
    "# Export the data to an Excel file\n",
    "\n",
    "probostat_session.exportToExcel()"
   ]
  },
  {
   "cell_type": "markdown",
   "metadata": {},
   "source": [
    "# Step 5: Plotting\n",
    "Here we can also select a subset of files, tables and columns for plotting, among other things."
   ]
  },
  {
   "cell_type": "code",
   "execution_count": null,
   "metadata": {},
   "outputs": [],
   "source": [
    "x_axis = columnNames[0]\n",
    "y_axes = [\"Average (TCT+TCC)/2\"]\n",
    "probostat_session.plotData(x_axis, y_axes, None, None, None, None, \"Dotted\", show=True, showLegend=True, showGrid=True)"
   ]
  },
  {
   "cell_type": "markdown",
   "metadata": {},
   "source": [
    "## Conclusion\n",
    "You have successfully loaded, viewed, manipulated, and exported Probostat data. Feel free to modify the code cells to work with your specific data and requirements! You may also contact me with any questions you might have over email or WhatsApp (ask around the office)."
   ]
  }
 ],
 "metadata": {
  "kernelspec": {
   "display_name": "Python 3",
   "language": "python",
   "name": "python3"
  },
  "language_info": {
   "codemirror_mode": {
    "name": "ipython",
    "version": 3
   },
   "file_extension": ".py",
   "mimetype": "text/x-python",
   "name": "python",
   "nbconvert_exporter": "python",
   "pygments_lexer": "ipython3",
   "version": "3.7.9"
  },
  "orig_nbformat": 4
 },
 "nbformat": 4,
 "nbformat_minor": 2
}
