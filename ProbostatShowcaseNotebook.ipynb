{
 "cells": [
  {
   "cell_type": "markdown",
   "metadata": {},
   "source": [
    "# Probostat Data Processing Notebook\n",
    "This notebook provides a concise and user-friendly interface to work with Probostat data files. Follow the steps to load, view, manipulate, and export your data."
   ]
  },
  {
   "cell_type": "markdown",
   "metadata": {},
   "source": [
    "\n",
    "---\n",
    "\n",
    "## Step 0: Installing external packages missing on the system\n",
    "This project is using Python packages developed by members of the open-source community, and they are necessary for you to be able to run these scripts.  \n",
    "If you have a fresh install of Python on this machine, you will need to install them.  \n",
    "\n",
    "If you already installed the prerequisites, feel free to skip."
   ]
  },
  {
   "cell_type": "code",
   "execution_count": null,
   "metadata": {},
   "outputs": [],
   "source": [
    "#!pip install -r requirements.txt"
   ]
  },
  {
   "cell_type": "markdown",
   "metadata": {},
   "source": [
    "\n",
    "## Step 1: Load Probostat Files\n",
    "First, we'll load the Probostat data files. Please make sure the files are in CSV format."
   ]
  },
  {
   "cell_type": "code",
   "execution_count": 3,
   "metadata": {},
   "outputs": [],
   "source": [
    "import brlopack"
   ]
  },
  {
   "cell_type": "markdown",
   "metadata": {},
   "source": [
    "### Initialize the BrloPack object"
   ]
  },
  {
   "cell_type": "code",
   "execution_count": null,
   "metadata": {},
   "outputs": [],
   "source": [
    "brlo_pack = brlopack.brlopack()"
   ]
  },
  {
   "cell_type": "code",
   "execution_count": null,
   "metadata": {},
   "outputs": [],
   "source": [
    "# List of Probostat files to load\n",
    "probostat_files = [\n",
    "    'data/probostat/new/BCTZ_16cikel za lukata loceno-2 point resistances.csv',\n",
    "    'data/probostat/new/BCTZ_16cikel za lukata loceno-Flow.csv',\n",
    "    'data/probostat/new/BCTZ_16cikel za lukata loceno-Keysiht MC.csv',\n",
    "    'data/probostat/new/BCTZ_16cikel za lukata loceno-Temp.csv'\n",
    "]"
   ]
  },
  {
   "cell_type": "markdown",
   "metadata": {},
   "source": [
    "### Load the files into the BrloPack object\n",
    "**Note**: Loading Probostat can take up to 1 or 2 minutes, because it is running a costly stitching operation over these `.csv` tables. Please be patient"
   ]
  },
  {
   "cell_type": "code",
   "execution_count": null,
   "metadata": {},
   "outputs": [],
   "source": [
    "brlo_pack.tellFiles(probostat_files)\n",
    "brlo_pack.loadFiles()"
   ]
  },
  {
   "cell_type": "markdown",
   "metadata": {},
   "source": [
    "\n",
    "## Step 2: View Data Structure and Content\n",
    "You can explore the files, tables, and columns within the loaded data.\n"
   ]
  },
  {
   "cell_type": "code",
   "execution_count": null,
   "metadata": {},
   "outputs": [],
   "source": [
    "# Example: View the files loaded\n",
    "loadedFiles = brlo_pack.tellMeFiles()\n",
    "loadedFiles"
   ]
  },
  {
   "cell_type": "markdown",
   "metadata": {},
   "source": [
    "**Question 1: Why does this show up as one file** (named 'Probostat') **; when we loaded 4?**  \n",
    "*Answer 1*\n",
    "<details><summary>Click here</summary>\n",
    "\n",
    "In the case of Probostat it is assumed that multiple loaded `.csv` files should be merged/stitched into a single `DataFrame`/table and it will show up as only one file (for now the default name is just `Probostat`).  \n",
    "\n",
    "*Why?* Usually with Probostat multiple of those files refer to a single experiment/measurement period.\n",
    "</details>\n",
    "\n",
    "---\n",
    "\n",
    "**Question 2: Ok, that's why it is only one file. But what if I want multiple Probostat files to stay separate files?**  \n",
    "*Answer 2*\n",
    "<details><summary>Click here</summary>\n",
    "\n",
    "Shortly - `.csv` files WILL be merged, `.xlsx` files WILL NOT be merged.  \n",
    "The `.xslx` files can be obtained by using the method `[brlopack object name here].exportToExcel()`. \n",
    "\n",
    "**Specific example of usage**\n",
    "<details><summary>Click here</summary>\n",
    "\n",
    "If you want to work with multiple files, each representing one experiment - it's not a problem. After you stitch several `.csv` files into a single `DataFrame`/table, use `paket.exportToExcel()` to get a single `.xslx` file for that experiment.  \n",
    "\n",
    "*Then*, do that for each experiment (i.e. several related `.csv` files). Then load those `.xlsx` files together - and they will stay separate! \n",
    "</details>\n",
    "</details>\n",
    "\n",
    "---\n",
    "\n",
    "**Question 3 (not important, feel free to skip): Why does it work like this?**  \n",
    "*Answer 3*\n",
    "<details><summary>Click here</summary>\n",
    "\n",
    "It made sense for the specific constraints that we had at the time. Origin had a lot of problems when exporting all of the measured data from multiple sensors into a single `.csv` file. We had to export data of 2-3 sensors at the most per `.csv` file. Sensors did not necessarily all start to measure from the same point in time, nor did they finish at the same point in time, leading to a lot of `NaN` (\"Not a number\") values in the table and to crashing. That's why we stitch them back here in the `brlopack` Python package (and for the usecase thus far, we could always assume that Probostat's `.csv` files always need to be stitched)\n",
    "\n",
    "</details>\n",
    "\n",
    "---"
   ]
  },
  {
   "cell_type": "markdown",
   "metadata": {},
   "source": [
    "#### Now let us move onto seeing the table within that file!"
   ]
  },
  {
   "cell_type": "code",
   "execution_count": null,
   "metadata": {},
   "outputs": [],
   "source": [
    "# Example: View the tables in a specific file\n",
    "tableNames = brlo_pack.tellMeTablesInFile(loadedFiles[0])\n",
    "tableNames"
   ]
  },
  {
   "cell_type": "markdown",
   "metadata": {},
   "source": [
    "#### Finally this is how we can see all of the columns in this table!"
   ]
  },
  {
   "cell_type": "code",
   "execution_count": null,
   "metadata": {},
   "outputs": [],
   "source": [
    "# Example: View the columns in a specific table\n",
    "columnNames = brlo_pack.tellMeColumnsInTable(loadedFiles[0], tableNames[0])\n",
    "columnNames"
   ]
  },
  {
   "cell_type": "markdown",
   "metadata": {},
   "source": [
    "## Step 3: Manipulate Data\n",
    "Here you can perform essential data manipulations, such as unit conversion."
   ]
  },
  {
   "cell_type": "markdown",
   "metadata": {},
   "source": [
    "\n",
    "Here is a list of all of the operations that you can do (methods defined in the `brlopack` class):\n",
    " 1. `divideConstant(columnName, newColumnName, constName)`\n",
    " 2. `multiplyConstant(columnName, newColumnName, constName)`\n",
    " 3. `subtractConstant(columnName, newColumnName, constName)`\n",
    " 4. `addConstant(columnName, newColumnName, constName)`\n",
    " 5. `inverseColumn(columnName, newColumnName, constName=None)`\n",
    " 6. `squareColumn(columnName, newColumnName, constName=None)`\n",
    " 7. `sqrtColumn(columnName, newColumnName, constName=None)`\n",
    " 8. `averageTwoColumns(columnName, newColumnName, secondColumn)`\n",
    " 9. `changeUnitOfConstant(constantName, unitPrefix)`\n",
    " 10. `logN(columnName, newColumnName, constName=None)`\n",
    " 11. `logConstant(columnName, newColumnName, constName)`\n"
   ]
  },
  {
   "cell_type": "code",
   "execution_count": null,
   "metadata": {},
   "outputs": [],
   "source": [
    "# Just put in any of the operations from above\n",
    "brlo_pack.inverseColumn(columnName=columnNames[1], \"Resistance inverted [1/ohm]\")"
   ]
  },
  {
   "cell_type": "markdown",
   "metadata": {},
   "source": [
    "**Warning**: Make sure that you write the proper unit of measurement in SQUARE BRACKETS.\n",
    "Otherwise unit conversions will not work, and the code might even crash.\n",
    "\n",
    "---"
   ]
  },
  {
   "cell_type": "markdown",
   "metadata": {},
   "source": [
    "**For advanced users - how to do any operation** beyond just these\n",
    "<details><summary>Click here</summary>\n",
    "\n",
    "You can open the `brlopack.py` to see how these ones were defined. You will notice they all follow the same pattern of arguments:\n",
    "1. `columnName` (str) - the input column\n",
    "2. `newColumnName` (str) - the output column\n",
    "3. `constName` (str, optional) - the constant used somehow in the operation\n",
    "\n",
    "You can also make your own method in this style using the `doOperation(operation, columnName, newColumnName, constName)` method.  \n",
    "\n",
    "Just peek into the `brlopack.py` file to see how it's done. It utilizes the so-called \"lambda functions\" or alternatively you can assign a function to a variable (yes, this is possible in Python - you can store functions in variables and pass them to other functions).\n",
    "\n",
    "If you are unsure about anything - do not hesitate to contact me over email or WhatsApp with your questions (especially if you tried to Google them or ask ChatGPT about it beforehand). If you don't have my contact info, ask around the office, someone has it!\n",
    "</details>"
   ]
  },
  {
   "cell_type": "markdown",
   "metadata": {},
   "source": [
    "\n",
    "## Step 4: Export Processed Data\n",
    "Finally, you can export the processed data to an Excel file."
   ]
  },
  {
   "cell_type": "code",
   "execution_count": null,
   "metadata": {},
   "outputs": [],
   "source": [
    "# Export the data to an Excel file\n",
    "brlo_pack.exportToExcel()"
   ]
  },
  {
   "cell_type": "markdown",
   "metadata": {},
   "source": [
    "## Conclusion\n",
    "You have successfully loaded, viewed, manipulated, and exported Probostat data. Feel free to modify the code cells to work with your specific data and requirements! You may also contact me with any questions you might have over email or WhatsApp (ask around the office)."
   ]
  }
 ],
 "metadata": {
  "kernelspec": {
   "display_name": "Python 3",
   "language": "python",
   "name": "python3"
  },
  "language_info": {
   "codemirror_mode": {
    "name": "ipython",
    "version": 3
   },
   "file_extension": ".py",
   "mimetype": "text/x-python",
   "name": "python",
   "nbconvert_exporter": "python",
   "pygments_lexer": "ipython3",
   "version": "3.7.9"
  },
  "orig_nbformat": 4
 },
 "nbformat": 4,
 "nbformat_minor": 2
}
