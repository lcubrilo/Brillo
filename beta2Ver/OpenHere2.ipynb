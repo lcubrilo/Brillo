{
 "cells": [
  {
   "cell_type": "markdown",
   "metadata": {
    "slideshow": {
     "slide_type": "slide"
    }
   },
   "source": [
    "# The aixACCT Notebook"
   ]
  },
  {
   "cell_type": "markdown",
   "metadata": {
    "slideshow": {
     "slide_type": "slide"
    }
   },
   "source": [
    "## Table of contents\n",
    "- Simple example\n",
    "    1. Loading a file\n",
    "    2. Choosing an interesting column of the table\n",
    "- New example\n",
    "    1. Loading multiple files\n",
    "    2. Setting up plots (1 independent, many dependent variables)\n",
    "    3. Plotting the data from one file\n",
    "    4. Plotting the data from multiple files"
   ]
  },
  {
   "cell_type": "code",
   "execution_count": 13,
   "metadata": {
    "slideshow": {
     "slide_type": "slide"
    }
   },
   "outputs": [],
   "source": [
    "%matplotlib widget\n",
    "# This imports the functions I implemented\n",
    "from improvedFunctions import loadFile\n",
    "# import pandas as pd"
   ]
  },
  {
   "cell_type": "markdown",
   "metadata": {
    "slideshow": {
     "slide_type": "subslide"
    }
   },
   "source": [
    "### Simple example: 1. Select your file  \n",
    "We're using the `filedialog` from `tkinter` GUI; specifically the `askopenfilename()` function."
   ]
  },
  {
   "cell_type": "code",
   "execution_count": 14,
   "metadata": {
    "scrolled": true,
    "slideshow": {
     "slide_type": "subslide"
    }
   },
   "outputs": [
    {
     "data": {
      "text/plain": [
       "'from tkinter import filedialog as fd\\nfilename = fd.askopenfilename()\\nfilename'"
      ]
     },
     "execution_count": 14,
     "metadata": {},
     "output_type": "execute_result"
    }
   ],
   "source": [
    "\"\"\"from tkinter import filedialog as fd\n",
    "filename = fd.askopenfilename()\n",
    "filename\"\"\""
   ]
  },
  {
   "cell_type": "code",
   "execution_count": 15,
   "metadata": {
    "scrolled": true,
    "slideshow": {
     "slide_type": "slide"
    }
   },
   "outputs": [
    {
     "name": "stdout",
     "output_type": "stream",
     "text": [
      "Loading file C:/Users/Uporabnik/Documents/Git projekti/ajzakt/data/BSFO13_RS800_12h_10-150kVcm_RT.dat\n",
      "Table #0 is called `Contour 1`\n",
      "Table #1 is called `Contour 2`\n",
      "Table #2 is called `Contour 3`\n",
      "Table #3 is called `Contour 4`\n",
      "Table #4 is called `Contour 5`\n",
      "Table #5 is called `Contour 6`\n",
      "Table #6 is called `Contour 7`\n",
      "Table #7 is called `Contour 8`\n",
      "Table #8 is called `Contour 9`\n",
      "Table #9 is called `Contour 10`\n",
      "Table #10 is called `Contour 11`\n",
      "Table #11 is called `Contour 12`\n",
      "Table #12 is called `Contour 13`\n",
      "Table #13 is called `Contour 14`\n",
      "Table #14 is called `Contour 15`\n"
     ]
    }
   ],
   "source": [
    "firstFile = loadFile(\"C:/Users/Uporabnik/Documents/Git projekti/ajzakt/data/BSFO13_RS800_12h_10-150kVcm_RT.dat\")\n",
    "\n",
    "# You can see the keys (column headers) and values (the rest of the columns) separately\n",
    "#namesOfVariables, measuredVariables = list(firstTable.keys()), list(firstTable.values())\n",
    "len(firstFile)\n",
    "for i, tableKey in enumerate(firstFile):\n",
    "    print(\"Table #{} is called `{}`\".format(i, tableKey))"
   ]
  },
  {
   "cell_type": "markdown",
   "metadata": {
    "slideshow": {
     "slide_type": "subslide"
    }
   },
   "source": [
    "### Simple example: 2. From the output above, copy-paste the column title you find interesting\n",
    "This is how you take any table from the file into a variable"
   ]
  },
  {
   "cell_type": "code",
   "execution_count": 16,
   "metadata": {
    "slideshow": {
     "slide_type": "subslide"
    }
   },
   "outputs": [
    {
     "name": "stdout",
     "output_type": "stream",
     "text": [
      "<class 'pandas.core.frame.DataFrame'>\n",
      "RangeIndex: 401 entries, 0 to 400\n",
      "Data columns (total 13 columns):\n",
      " #   Column       Non-Null Count  Dtype \n",
      "---  ------       --------------  ----- \n",
      " 0   Time [s]     401 non-null    object\n",
      " 1   V+ [V]       401 non-null    object\n",
      " 2   V- [V]       401 non-null    object\n",
      " 3   I1 [A]       401 non-null    object\n",
      " 4   P1 [uC/cm2]  401 non-null    object\n",
      " 5   I2 [A]       401 non-null    object\n",
      " 6   P2 [uC/cm2]  401 non-null    object\n",
      " 7   I3 [A]       401 non-null    object\n",
      " 8   P3 [uC/cm2]  401 non-null    object\n",
      " 9   D1 [nm]      401 non-null    object\n",
      " 10  D2 [nm]      401 non-null    object\n",
      " 11  D3 [nm]      401 non-null    object\n",
      " 12  CH3 [V]      401 non-null    object\n",
      "dtypes: object(13)\n",
      "memory usage: 40.9+ KB\n"
     ]
    }
   ],
   "source": [
    "# Here are a few examples\n",
    "firstTable = firstFile[\"Contour 1\"]\n",
    "firstTable.info()"
   ]
  },
  {
   "cell_type": "markdown",
   "metadata": {},
   "source": [
    "This is how you take any column from the table into a variable:\n",
    "\n",
    "Just copy paste the column name from above! (and put it in the square brackets)"
   ]
  },
  {
   "cell_type": "code",
   "execution_count": 17,
   "metadata": {},
   "outputs": [
    {
     "data": {
      "text/plain": [
       "0      -1.025487e-004\n",
       "1       4.228762e-004\n",
       "2       2.020923e-003\n",
       "3       4.100100e-003\n",
       "4       5.964256e-003\n",
       "            ...      \n",
       "396    -1.379839e-002\n",
       "397    -1.188197e-002\n",
       "398    -9.970443e-003\n",
       "399    -8.035950e-003\n",
       "400    -6.133821e-003\n",
       "Name: P2 [uC/cm2], Length: 401, dtype: object"
      ]
     },
     "execution_count": 17,
     "metadata": {},
     "output_type": "execute_result"
    }
   ],
   "source": [
    "time = firstTable[\"Time [s]\"]\n",
    "voltage = firstTable[\"V+ [V]\"]\n",
    "p1 = firstTable[\"P1 [uC/cm2]\"]\n",
    "john = firstTable[\"P2 [uC/cm2]\"]\n",
    "# You can name your variables however you want.\n",
    "# But you need to copy paste the column titles from above\n",
    "john "
   ]
  },
  {
   "cell_type": "markdown",
   "metadata": {},
   "source": [
    "As you can see above, it lists out all of the values in that column.  \n",
    "After that it tells you the columns name and length (how many values you have)  \n"
   ]
  },
  {
   "cell_type": "markdown",
   "metadata": {},
   "source": [
    "  \n",
    "Let's do that again for a different column"
   ]
  },
  {
   "cell_type": "code",
   "execution_count": 18,
   "metadata": {
    "slideshow": {
     "slide_type": "subslide"
    }
   },
   "outputs": [
    {
     "data": {
      "text/plain": [
       "0      -1.311919e+000\n",
       "1      -2.493967e-001\n",
       "2       4.478131e+000\n",
       "3       7.558548e+000\n",
       "4       1.196119e+001\n",
       "            ...      \n",
       "396    -1.861843e+001\n",
       "397    -1.514147e+001\n",
       "398    -1.151400e+001\n",
       "399    -7.485213e+000\n",
       "400    -4.122911e+000\n",
       "Name: V+ [V], Length: 401, dtype: object"
      ]
     },
     "execution_count": 18,
     "metadata": {},
     "output_type": "execute_result"
    }
   ],
   "source": [
    "# You can type the name of any of the variables from above to see the values at that column\n",
    "voltage"
   ]
  },
  {
   "cell_type": "markdown",
   "metadata": {
    "slideshow": {
     "slide_type": "slide"
    }
   },
   "source": [
    "### New example: 1. You can even load from multiple files at once, and store them together in a `list`:"
   ]
  },
  {
   "cell_type": "code",
   "execution_count": 19,
   "metadata": {
    "slideshow": {
     "slide_type": "slide"
    }
   },
   "outputs": [],
   "source": [
    "# One way - manually write them out\n",
    "# We can use relative paths, like so...\n",
    "wantedFiles = [\n",
    "    \"../data\\BSFO13_RS800_10-150kVcm_RT.dat\",\n",
    "    \"../data\\BSFO13_RS820_10-150kVcm_RT.dat\"\n",
    "]\n",
    "\n",
    "# ... or absolute paths\n",
    "wantedFiles = [\n",
    "    \"C:/Users/Uporabnik/Documents/Git projekti/ajzakt//data\\BSFO13_RS800_10-150kVcm_RT.dat\",\n",
    "    \"C:/Users/Uporabnik/Documents/Git projekti/ajzakt//data\\BSFO13_RS820_10-150kVcm_RT.dat\"\n",
    "]"
   ]
  },
  {
   "cell_type": "code",
   "execution_count": 20,
   "metadata": {
    "slideshow": {
     "slide_type": "subslide"
    }
   },
   "outputs": [
    {
     "data": {
      "text/plain": [
       "'# The easiest method: GUI.\\nwantedFiles=fd.askopenfilenames()\\nwantedFiles'"
      ]
     },
     "execution_count": 20,
     "metadata": {},
     "output_type": "execute_result"
    }
   ],
   "source": [
    "\"\"\"# The easiest method: GUI.\n",
    "wantedFiles=fd.askopenfilenames()\n",
    "wantedFiles\"\"\""
   ]
  },
  {
   "cell_type": "code",
   "execution_count": 21,
   "metadata": {},
   "outputs": [],
   "source": [
    "wantedFiles = ('C:/Users/Uporabnik/Documents/Git projekti/ajzakt/data/BSFO13_RS800_10-150kVcm_RT.dat',\n",
    " 'C:/Users/Uporabnik/Documents/Git projekti/ajzakt/data/BSFO13_RS800_12h_10-150kVcm_RT.dat',\n",
    " 'C:/Users/Uporabnik/Documents/Git projekti/ajzakt/data/BSFO13_RS820_10-150kVcm_RT.dat')"
   ]
  },
  {
   "cell_type": "markdown",
   "metadata": {
    "slideshow": {
     "slide_type": "slide"
    }
   },
   "source": [
    "Then read data from each one of them, using a for loop (and store in a new variable `loadedTables`):"
   ]
  },
  {
   "cell_type": "code",
   "execution_count": 22,
   "metadata": {
    "slideshow": {
     "slide_type": "subslide"
    }
   },
   "outputs": [
    {
     "name": "stdout",
     "output_type": "stream",
     "text": [
      "Loading file C:/Users/Uporabnik/Documents/Git projekti/ajzakt/data/BSFO13_RS800_10-150kVcm_RT.dat\n",
      "Loading file C:/Users/Uporabnik/Documents/Git projekti/ajzakt/data/BSFO13_RS800_12h_10-150kVcm_RT.dat\n",
      "Loading file C:/Users/Uporabnik/Documents/Git projekti/ajzakt/data/BSFO13_RS820_10-150kVcm_RT.dat\n"
     ]
    }
   ],
   "source": [
    "loadedTables = {}\n",
    "for file in wantedFiles:\n",
    "    loadedTables[file] = loadFile(file)"
   ]
  },
  {
   "cell_type": "markdown",
   "metadata": {
    "slideshow": {
     "slide_type": "slide"
    }
   },
   "source": [
    "To access the table data (from this list of loaded files) - copy-paste the [file name] and [table title] you find interesting in square brackets"
   ]
  },
  {
   "cell_type": "code",
   "execution_count": 26,
   "metadata": {
    "slideshow": {
     "slide_type": "subslide"
    }
   },
   "outputs": [
    {
     "name": "stdout",
     "output_type": "stream",
     "text": [
      "<class 'pandas.core.frame.DataFrame'>\n",
      "RangeIndex: 401 entries, 0 to 400\n",
      "Data columns (total 13 columns):\n",
      " #   Column       Non-Null Count  Dtype \n",
      "---  ------       --------------  ----- \n",
      " 0   Time [s]     401 non-null    object\n",
      " 1   V+ [V]       401 non-null    object\n",
      " 2   V- [V]       401 non-null    object\n",
      " 3   I1 [A]       401 non-null    object\n",
      " 4   P1 [uC/cm2]  401 non-null    object\n",
      " 5   I2 [A]       401 non-null    object\n",
      " 6   P2 [uC/cm2]  401 non-null    object\n",
      " 7   I3 [A]       401 non-null    object\n",
      " 8   P3 [uC/cm2]  401 non-null    object\n",
      " 9   D1 [nm]      401 non-null    object\n",
      " 10  D2 [nm]      401 non-null    object\n",
      " 11  D3 [nm]      401 non-null    object\n",
      " 12  CH3 [V]      401 non-null    object\n",
      "dtypes: object(13)\n",
      "memory usage: 40.9+ KB\n"
     ]
    }
   ],
   "source": [
    "# Here's how we get it from the group\n",
    "myVariable1 = loadedTables[\"C:/Users/Uporabnik/Documents/Git projekti/ajzakt/data/BSFO13_RS800_10-150kVcm_RT.dat\"][\"Contour 5\"] #loadedTables[\"../data\\BSFO13_RS800_10-150kVcm_RT.dat\"][\"V+ [V]\"]\n",
    "myVariable1.info()"
   ]
  },
  {
   "cell_type": "markdown",
   "metadata": {},
   "source": [
    "Of course as a reminder - when you have a table in some variable (in this case `myVariable1`) just add square brackets with the name of the column you are interested in.  \n",
    "Run the cell below to confirm this.  \n",
    "Like always, feel free to play around with different values and see what gets outputted.  \n",
    "\n",
    "\n",
    "If any errors happen, you can Google them to get an explanation (probably on the *Stack Overflow* website) why that happened and how to avoid it."
   ]
  },
  {
   "cell_type": "code",
   "execution_count": 29,
   "metadata": {},
   "outputs": [
    {
     "data": {
      "text/plain": [
       "0      -8.136738e-007\n",
       "1      -3.170063e-005\n",
       "2      -8.131096e-005\n",
       "3      -7.525261e-005\n",
       "4      -6.642650e-005\n",
       "            ...      \n",
       "396    -8.129009e-005\n",
       "397    -8.178433e-005\n",
       "398    -8.182762e-005\n",
       "399    -8.206742e-005\n",
       "400    -8.102167e-005\n",
       "Name: I3 [A], Length: 401, dtype: object"
      ]
     },
     "execution_count": 29,
     "metadata": {},
     "output_type": "execute_result"
    }
   ],
   "source": [
    "myVariable1[\"I3 [A]\"]"
   ]
  },
  {
   "cell_type": "markdown",
   "metadata": {
    "slideshow": {
     "slide_type": "slide"
    }
   },
   "source": [
    "### 2. Setting up interesting measurements for plotting\n",
    "Using Python dictionaries - key:value pairs (x axis: y axes)"
   ]
  },
  {
   "cell_type": "code",
   "execution_count": 30,
   "metadata": {
    "slideshow": {
     "slide_type": "subslide"
    }
   },
   "outputs": [
    {
     "data": {
      "text/plain": [
       "{'V+ [V]': ['P1 [uC/cm2]', 'P2 [uC/cm2]']}"
      ]
     },
     "execution_count": 30,
     "metadata": {},
     "output_type": "execute_result"
    }
   ],
   "source": [
    "# Independent variable\n",
    "x_axis = \"V+ [V]\" \n",
    "\n",
    "# Dependent variables\n",
    "y_axes = [\"P1 [uC/cm2]\", \"P2 [uC/cm2]\"]\n",
    "\n",
    "# Pair them up\n",
    "plots = {\n",
    "    x_axis: y_axes\n",
    "    # you can pair up another x axis here; then a \":\"; then y_axes\n",
    "    }\n",
    "\n",
    "# Let's see what we have stored in memory\n",
    "plots"
   ]
  },
  {
   "cell_type": "markdown",
   "metadata": {
    "slideshow": {
     "slide_type": "slide"
    }
   },
   "source": [
    "### 3. Plotting data from one file\n",
    "As a reminder, let's check which files we're loading the data from"
   ]
  },
  {
   "cell_type": "code",
   "execution_count": 31,
   "metadata": {
    "slideshow": {
     "slide_type": "subslide"
    }
   },
   "outputs": [
    {
     "data": {
      "text/plain": [
       "('C:/Users/Uporabnik/Documents/Git projekti/ajzakt/data/BSFO13_RS800_10-150kVcm_RT.dat',\n",
       " 'C:/Users/Uporabnik/Documents/Git projekti/ajzakt/data/BSFO13_RS800_12h_10-150kVcm_RT.dat',\n",
       " 'C:/Users/Uporabnik/Documents/Git projekti/ajzakt/data/BSFO13_RS820_10-150kVcm_RT.dat')"
      ]
     },
     "execution_count": 31,
     "metadata": {},
     "output_type": "execute_result"
    }
   ],
   "source": [
    "wantedFiles # See the entire list"
   ]
  },
  {
   "cell_type": "code",
   "execution_count": 32,
   "metadata": {
    "slideshow": {
     "slide_type": "subslide"
    }
   },
   "outputs": [
    {
     "data": {
      "text/plain": [
       "'C:/Users/Uporabnik/Documents/Git projekti/ajzakt/data/BSFO13_RS800_10-150kVcm_RT.dat'"
      ]
     },
     "execution_count": 32,
     "metadata": {},
     "output_type": "execute_result"
    }
   ],
   "source": [
    "wantedFiles[0] # See the first element of the list"
   ]
  },
  {
   "cell_type": "markdown",
   "metadata": {
    "slideshow": {
     "slide_type": "slide"
    }
   },
   "source": [
    "Let's plot from the first element of the list (in this case <sup><sub>`'C:/Users/Uporabnik/Documents/Git projekti/ajzakt/data/BSFO13_RS800_10-150kVcm_RT.dat'`</sub></sup>).  \n",
    "We are using the `plotData` method from my `helperFunctions.py` script."
   ]
  },
  {
   "cell_type": "markdown",
   "metadata": {
    "slideshow": {
     "slide_type": "subslide"
    }
   },
   "source": [
    "Pro tip:  \n",
    "<sup><sub>\n",
    "To go through all independent variables (x axes) - we are using a `for` loop to go through `plots` variable  \n",
    "In this case, there is only one x_axis in the `plots` dictionary (so `for` loop has only one iteration)</sub></sup>"
   ]
  },
  {
   "cell_type": "code",
   "execution_count": 37,
   "metadata": {
    "slideshow": {
     "slide_type": "subslide"
    }
   },
   "outputs": [
    {
     "ename": "SyntaxError",
     "evalue": "invalid syntax (2843646728.py, line 1)",
     "output_type": "error",
     "traceback": [
      "\u001b[1;36m  Cell \u001b[1;32mIn [37], line 1\u001b[1;36m\u001b[0m\n\u001b[1;33m    from \"betaVer/helperFunctions\" import plotData\u001b[0m\n\u001b[1;37m         ^\u001b[0m\n\u001b[1;31mSyntaxError\u001b[0m\u001b[1;31m:\u001b[0m invalid syntax\n"
     ]
    }
   ],
   "source": [
    "#from helperFunctions import plotData #TODO MAKE MORE ELEGANT PLOTS\n",
    "for x_axis in plots:\n",
    "    print(wantedFiles[0])\n",
    "    plotData(loadedTables[wantedFiles[0]], x_axis, plots[x_axis], fileName=wantedFiles[0])"
   ]
  },
  {
   "cell_type": "markdown",
   "metadata": {
    "slideshow": {
     "slide_type": "slide"
    }
   },
   "source": [
    "Let's repeat the same procedure for the second element of the list (in this case `../data\\\\BSFO13_RS820_10-150kVcm_RT.dat`)\n",
    "\n",
    "For this one we will also demonstrate one new feature."
   ]
  },
  {
   "cell_type": "code",
   "execution_count": null,
   "metadata": {
    "slideshow": {
     "slide_type": "subslide"
    }
   },
   "outputs": [],
   "source": [
    "for x_axis in plots:\n",
    "    print(wantedFiles[1])\n",
    "    plotData(loadedTables[wantedFiles[1]], x_axis, plots[x_axis], fileName=wantedFiles[1])"
   ]
  },
  {
   "cell_type": "markdown",
   "metadata": {},
   "source": [
    "### 4. Printing only some contours\n",
    "\n",
    "What if some of these contours are not interesting to us and we wish not to plot them with the interesting ones?\n",
    "\n",
    "Run the cell below to get a list of contours and a checkbox to exclude irrelevant ones."
   ]
  },
  {
   "cell_type": "code",
   "execution_count": null,
   "metadata": {},
   "outputs": [],
   "source": [
    "from helperFunctions import newestSplit, splitMessage, checkedBoxes\n",
    "\n",
    "def changed(b):\n",
    "    i = splitMessage.index(b[\"owner\"].description)\n",
    "    checkedBoxes[i] = b[\"owner\"].value\n",
    "    print(\"\\n========\\n\")\n",
    "    print(\"{}: switched to {}\".format(b[\"owner\"].description, b[\"owner\"].value))\n",
    "\n",
    "from IPython.display import display\n",
    "from ipywidgets import Checkbox\n",
    "\n",
    "#print(contours)\n",
    "checkboxes = []\n",
    "checkedBoxes = []\n",
    "print(checkedBoxes)\n",
    "\n",
    "for msg in splitMessage:\n",
    "    checkboxes.append(Checkbox(True, description=str(msg)))\n",
    "    checkedBoxes.append(True)\n",
    "\n",
    "for chkBx in checkboxes:\n",
    "    display(chkBx)\n",
    "    chkBx.observe(changed, names=['value'])\n",
    "    \n",
    "#TODO make a function that import/exports bool values to and from checkboxes"
   ]
  },
  {
   "cell_type": "code",
   "execution_count": null,
   "metadata": {},
   "outputs": [],
   "source": [
    "checkedBoxes"
   ]
  },
  {
   "cell_type": "code",
   "execution_count": null,
   "metadata": {
    "slideshow": {
     "slide_type": "slide"
    }
   },
   "outputs": [],
   "source": [
    "# Alternative plotting from the third file\n",
    "plotData(loadedTables[wantedFiles[2]], x_axis, [\"D1 [nm]\",\"D2 [nm]\"], fileName=wantedFiles[2])"
   ]
  },
  {
   "cell_type": "markdown",
   "metadata": {
    "slideshow": {
     "slide_type": "slide"
    }
   },
   "source": [
    "### 5. Combine plot data from two different files\n",
    "You can also combine data from all of the files together on the same plot using the `plotMultiple()` function from my `helperFunctions.py` script."
   ]
  },
  {
   "cell_type": "code",
   "execution_count": null,
   "metadata": {
    "slideshow": {
     "slide_type": "subslide"
    }
   },
   "outputs": [],
   "source": [
    "plotMultiple(loadedTables, \"V+ [V]\", [\"P1 [uC/cm2]\", \"P2 [uC/cm2]\"])"
   ]
  }
 ],
 "metadata": {
  "kernelspec": {
   "display_name": "Python 3 (ipykernel)",
   "language": "python",
   "name": "python3"
  },
  "language_info": {
   "codemirror_mode": {
    "name": "ipython",
    "version": 3
   },
   "file_extension": ".py",
   "mimetype": "text/x-python",
   "name": "python",
   "nbconvert_exporter": "python",
   "pygments_lexer": "ipython3",
   "version": "3.10.8"
  },
  "vscode": {
   "interpreter": {
    "hash": "5c381e7f2c0078467f73d23553deca43c477deb42d7a3fd5098a3a031bb70ab1"
   }
  }
 },
 "nbformat": 4,
 "nbformat_minor": 2
}
